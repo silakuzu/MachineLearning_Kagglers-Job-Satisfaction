{
  "nbformat": 4,
  "nbformat_minor": 0,
  "metadata": {
    "colab": {
      "name": "proj.ipynb",
      "provenance": [],
      "collapsed_sections": []
    },
    "kernelspec": {
      "name": "python3",
      "display_name": "Python 3"
    }
  },
  "cells": [
    {
      "cell_type": "code",
      "metadata": {
        "colab": {
          "base_uri": "https://localhost:8080/"
        },
        "id": "0Is4o8k_j87i",
        "outputId": "b0f75744-80dc-482f-aab5-2f9c09ba53d2"
      },
      "source": [
        "from google.colab import drive\n",
        "drive.mount('/content/drive')"
      ],
      "execution_count": null,
      "outputs": [
        {
          "output_type": "stream",
          "text": [
            "Drive already mounted at /content/drive; to attempt to forcibly remount, call drive.mount(\"/content/drive\", force_remount=True).\n"
          ],
          "name": "stdout"
        }
      ]
    },
    {
      "cell_type": "code",
      "metadata": {
        "id": "I1wXPKDmzicH"
      },
      "source": [
        "import pandas as pd\n",
        "\n",
        "train_df = pd.read_excel('/content/drive/My Drive/train.xlsx')\n",
        "test_df = pd.read_excel('/content/drive/My Drive/test.xlsx')"
      ],
      "execution_count": null,
      "outputs": []
    },
    {
      "cell_type": "code",
      "metadata": {
        "id": "t8hQOyR_3gzu"
      },
      "source": [
        "import keras\n",
        "from keras.models import Sequential\n",
        "from keras.layers import Dense\n",
        "from keras.optimizers import Adam\n",
        "import numpy as np\n",
        "\n",
        "from sklearn.linear_model import LinearRegression\n",
        "import matplotlib.pyplot as plt\n",
        "from sklearn.model_selection import cross_val_score\n",
        "from sklearn.metrics import accuracy_score\n",
        "from sklearn.model_selection import train_test_split\n",
        "from sklearn.metrics import mean_squared_error\n",
        "from statistics import mean"
      ],
      "execution_count": null,
      "outputs": []
    },
    {
      "cell_type": "code",
      "metadata": {
        "colab": {
          "base_uri": "https://localhost:8080/",
          "height": 434
        },
        "id": "For8j_t7Ym57",
        "outputId": "01637e79-7cb5-4c7e-9a13-d9be4df0622f"
      },
      "source": [
        "train_df.head()"
      ],
      "execution_count": null,
      "outputs": [
        {
          "output_type": "execute_result",
          "data": {
            "text/html": [
              "<div>\n",
              "<style scoped>\n",
              "    .dataframe tbody tr th:only-of-type {\n",
              "        vertical-align: middle;\n",
              "    }\n",
              "\n",
              "    .dataframe tbody tr th {\n",
              "        vertical-align: top;\n",
              "    }\n",
              "\n",
              "    .dataframe thead th {\n",
              "        text-align: right;\n",
              "    }\n",
              "</style>\n",
              "<table border=\"1\" class=\"dataframe\">\n",
              "  <thead>\n",
              "    <tr style=\"text-align: right;\">\n",
              "      <th></th>\n",
              "      <th>ID</th>\n",
              "      <th>GenderSelect</th>\n",
              "      <th>Country</th>\n",
              "      <th>Age</th>\n",
              "      <th>EmploymentStatus</th>\n",
              "      <th>CodeWriter</th>\n",
              "      <th>CurrentJobTitleSelect</th>\n",
              "      <th>TitleFit</th>\n",
              "      <th>CurrentEmployerType</th>\n",
              "      <th>MLToolNextYearSelect</th>\n",
              "      <th>MLMethodNextYearSelect</th>\n",
              "      <th>LanguageRecommendationSelect</th>\n",
              "      <th>LearningPlatformUsefulnessBlogs</th>\n",
              "      <th>LearningPlatformUsefulnessKaggle</th>\n",
              "      <th>LearningPlatformUsefulnessCourses</th>\n",
              "      <th>LearningPlatformUsefulnessProjects</th>\n",
              "      <th>LearningPlatformUsefulnessSO</th>\n",
              "      <th>LearningPlatformUsefulnessTextbook</th>\n",
              "      <th>LearningPlatformUsefulnessYouTube</th>\n",
              "      <th>DataScienceIdentitySelect</th>\n",
              "      <th>FormalEducation</th>\n",
              "      <th>MajorSelect</th>\n",
              "      <th>Tenure</th>\n",
              "      <th>PastJobTitlesSelect</th>\n",
              "      <th>MLSkillsSelect</th>\n",
              "      <th>MLTechniquesSelect</th>\n",
              "      <th>EmployerIndustry</th>\n",
              "      <th>EmployerSize</th>\n",
              "      <th>WorkProductionFrequency</th>\n",
              "      <th>WorkAlgorithmsSelect</th>\n",
              "      <th>WorkToolsFrequencyPython</th>\n",
              "      <th>WorkToolsFrequencyR</th>\n",
              "      <th>WorkToolsFrequencySQL</th>\n",
              "      <th>WorkMethodsFrequencyCross-Validation</th>\n",
              "      <th>WorkMethodsFrequencyDataVisualization</th>\n",
              "      <th>WorkMethodsFrequencyDecisionTrees</th>\n",
              "      <th>WorkMethodsFrequencyLogisticRegression</th>\n",
              "      <th>WorkMethodsFrequencyNeuralNetworks</th>\n",
              "      <th>WorkMethodsFrequencyPCA</th>\n",
              "      <th>WorkMethodsFrequencyRandomForests</th>\n",
              "      <th>WorkMethodsFrequencyTimeSeriesAnalysis</th>\n",
              "      <th>WorkChallengeFrequencyPolitics</th>\n",
              "      <th>WorkChallengeFrequencyUnusedResults</th>\n",
              "      <th>WorkChallengeFrequencyDirtyData</th>\n",
              "      <th>WorkChallengeFrequencyExplaining</th>\n",
              "      <th>WorkChallengeFrequencyTalent</th>\n",
              "      <th>WorkChallengeFrequencyClarity</th>\n",
              "      <th>WorkChallengeFrequencyDataAccess</th>\n",
              "      <th>CompensationScore</th>\n",
              "      <th>WorkDataVisualizations</th>\n",
              "      <th>WorkInternalVsExternalTools</th>\n",
              "      <th>WorkMLTeamSeatSelect</th>\n",
              "      <th>RemoteWork</th>\n",
              "      <th>JobSatisfaction</th>\n",
              "    </tr>\n",
              "  </thead>\n",
              "  <tbody>\n",
              "    <tr>\n",
              "      <th>0</th>\n",
              "      <td>1</td>\n",
              "      <td>Male</td>\n",
              "      <td>Pakistan</td>\n",
              "      <td>28.0</td>\n",
              "      <td>Independent contractor, freelancer, or self-em...</td>\n",
              "      <td>Yes</td>\n",
              "      <td>Software Developer/Software Engineer</td>\n",
              "      <td>Fine</td>\n",
              "      <td>Self-employed</td>\n",
              "      <td>Python</td>\n",
              "      <td>Link Analysis</td>\n",
              "      <td>SAS</td>\n",
              "      <td>NaN</td>\n",
              "      <td>NaN</td>\n",
              "      <td>Very useful</td>\n",
              "      <td>NaN</td>\n",
              "      <td>NaN</td>\n",
              "      <td>NaN</td>\n",
              "      <td>Not Useful</td>\n",
              "      <td>Sort of (Explain more)</td>\n",
              "      <td>Bachelor's degree</td>\n",
              "      <td>Information technology, networking, or system ...</td>\n",
              "      <td>3 to 5 years</td>\n",
              "      <td>Programmer,Software Developer/Software Engineer</td>\n",
              "      <td>Survival Analysis</td>\n",
              "      <td>Hidden Markov Models HMMs,Logistic Regression,...</td>\n",
              "      <td>Technology</td>\n",
              "      <td>NaN</td>\n",
              "      <td>Always</td>\n",
              "      <td>Random Forests</td>\n",
              "      <td>Often</td>\n",
              "      <td>NaN</td>\n",
              "      <td>Often</td>\n",
              "      <td>NaN</td>\n",
              "      <td>NaN</td>\n",
              "      <td>NaN</td>\n",
              "      <td>NaN</td>\n",
              "      <td>NaN</td>\n",
              "      <td>NaN</td>\n",
              "      <td>Often</td>\n",
              "      <td>NaN</td>\n",
              "      <td>NaN</td>\n",
              "      <td>NaN</td>\n",
              "      <td>Often</td>\n",
              "      <td>NaN</td>\n",
              "      <td>NaN</td>\n",
              "      <td>NaN</td>\n",
              "      <td>NaN</td>\n",
              "      <td>8.0</td>\n",
              "      <td>51-75% of projects</td>\n",
              "      <td>Approximately half internal and half external</td>\n",
              "      <td>Standalone Team</td>\n",
              "      <td>NaN</td>\n",
              "      <td>4</td>\n",
              "    </tr>\n",
              "    <tr>\n",
              "      <th>1</th>\n",
              "      <td>2</td>\n",
              "      <td>Male</td>\n",
              "      <td>Mexico</td>\n",
              "      <td>26.0</td>\n",
              "      <td>Employed full-time</td>\n",
              "      <td>Yes</td>\n",
              "      <td>Computer Scientist</td>\n",
              "      <td>Poorly</td>\n",
              "      <td>Employed by a company that doesn't perform adv...</td>\n",
              "      <td>Python</td>\n",
              "      <td>Deep learning</td>\n",
              "      <td>Python</td>\n",
              "      <td>Somewhat useful</td>\n",
              "      <td>Very useful</td>\n",
              "      <td>NaN</td>\n",
              "      <td>NaN</td>\n",
              "      <td>NaN</td>\n",
              "      <td>Very useful</td>\n",
              "      <td>NaN</td>\n",
              "      <td>No</td>\n",
              "      <td>Master's degree</td>\n",
              "      <td>Computer Science</td>\n",
              "      <td>1 to 2 years</td>\n",
              "      <td>Computer Scientist,Programmer,Researcher</td>\n",
              "      <td>Natural Language Processing,Supervised Machine...</td>\n",
              "      <td>Bayesian Techniques,Support Vector Machines (S...</td>\n",
              "      <td>Government</td>\n",
              "      <td>1,000 to 4,999 employees</td>\n",
              "      <td>Rarely</td>\n",
              "      <td>Bayesian Techniques,SVMs</td>\n",
              "      <td>Sometimes</td>\n",
              "      <td>Often</td>\n",
              "      <td>NaN</td>\n",
              "      <td>Sometimes</td>\n",
              "      <td>Most of the time</td>\n",
              "      <td>NaN</td>\n",
              "      <td>NaN</td>\n",
              "      <td>NaN</td>\n",
              "      <td>NaN</td>\n",
              "      <td>NaN</td>\n",
              "      <td>Rarely</td>\n",
              "      <td>NaN</td>\n",
              "      <td>NaN</td>\n",
              "      <td>NaN</td>\n",
              "      <td>NaN</td>\n",
              "      <td>Often</td>\n",
              "      <td>NaN</td>\n",
              "      <td>NaN</td>\n",
              "      <td>NaN</td>\n",
              "      <td>100% of projects</td>\n",
              "      <td>More internal than external</td>\n",
              "      <td>Business Department</td>\n",
              "      <td>NaN</td>\n",
              "      <td>7</td>\n",
              "    </tr>\n",
              "    <tr>\n",
              "      <th>2</th>\n",
              "      <td>3</td>\n",
              "      <td>Female</td>\n",
              "      <td>United States</td>\n",
              "      <td>34.0</td>\n",
              "      <td>Employed full-time</td>\n",
              "      <td>Yes</td>\n",
              "      <td>Data Analyst</td>\n",
              "      <td>Fine</td>\n",
              "      <td>Employed by government</td>\n",
              "      <td>TensorFlow</td>\n",
              "      <td>Deep learning</td>\n",
              "      <td>Python</td>\n",
              "      <td>Very useful</td>\n",
              "      <td>NaN</td>\n",
              "      <td>Somewhat useful</td>\n",
              "      <td>NaN</td>\n",
              "      <td>NaN</td>\n",
              "      <td>Somewhat useful</td>\n",
              "      <td>Somewhat useful</td>\n",
              "      <td>Sort of (Explain more)</td>\n",
              "      <td>Doctoral degree</td>\n",
              "      <td>Mathematics or statistics</td>\n",
              "      <td>6 to 10 years</td>\n",
              "      <td>Engineer,Operations Research Practitioner,Pred...</td>\n",
              "      <td>Supervised Machine Learning (Tabular Data)</td>\n",
              "      <td>Ensemble Methods,Evolutionary Approaches,Neura...</td>\n",
              "      <td>Government</td>\n",
              "      <td>1,000 to 4,999 employees</td>\n",
              "      <td>Rarely</td>\n",
              "      <td>Neural Networks,Regression/Logistic Regression</td>\n",
              "      <td>Sometimes</td>\n",
              "      <td>Often</td>\n",
              "      <td>NaN</td>\n",
              "      <td>Often</td>\n",
              "      <td>Often</td>\n",
              "      <td>NaN</td>\n",
              "      <td>NaN</td>\n",
              "      <td>Often</td>\n",
              "      <td>Sometimes</td>\n",
              "      <td>NaN</td>\n",
              "      <td>Sometimes</td>\n",
              "      <td>NaN</td>\n",
              "      <td>Sometimes</td>\n",
              "      <td>NaN</td>\n",
              "      <td>NaN</td>\n",
              "      <td>Sometimes</td>\n",
              "      <td>NaN</td>\n",
              "      <td>Most of the time</td>\n",
              "      <td>2.0</td>\n",
              "      <td>10-25% of projects</td>\n",
              "      <td>More internal than external</td>\n",
              "      <td>Other</td>\n",
              "      <td>Rarely</td>\n",
              "      <td>6</td>\n",
              "    </tr>\n",
              "    <tr>\n",
              "      <th>3</th>\n",
              "      <td>4</td>\n",
              "      <td>Female</td>\n",
              "      <td>United States</td>\n",
              "      <td>33.0</td>\n",
              "      <td>Employed full-time</td>\n",
              "      <td>Yes</td>\n",
              "      <td>Scientist/Researcher</td>\n",
              "      <td>Fine</td>\n",
              "      <td>Employed by college or university</td>\n",
              "      <td>IBM Watson / Waton Analytics</td>\n",
              "      <td>Cluster Analysis</td>\n",
              "      <td>Python</td>\n",
              "      <td>NaN</td>\n",
              "      <td>NaN</td>\n",
              "      <td>Very useful</td>\n",
              "      <td>NaN</td>\n",
              "      <td>Somewhat useful</td>\n",
              "      <td>NaN</td>\n",
              "      <td>NaN</td>\n",
              "      <td>No</td>\n",
              "      <td>Doctoral degree</td>\n",
              "      <td>Engineering (non-computer focused)</td>\n",
              "      <td>More than 10 years</td>\n",
              "      <td>Engineer,Researcher</td>\n",
              "      <td>Computer Vision</td>\n",
              "      <td>Bayesian Techniques,Support Vector Machines (S...</td>\n",
              "      <td>Academic</td>\n",
              "      <td>5,000 to 9,999 employees</td>\n",
              "      <td>Sometimes</td>\n",
              "      <td>Markov Logic Networks,Regression/Logistic Regr...</td>\n",
              "      <td>Sometimes</td>\n",
              "      <td>NaN</td>\n",
              "      <td>NaN</td>\n",
              "      <td>NaN</td>\n",
              "      <td>Often</td>\n",
              "      <td>NaN</td>\n",
              "      <td>Sometimes</td>\n",
              "      <td>NaN</td>\n",
              "      <td>Often</td>\n",
              "      <td>NaN</td>\n",
              "      <td>Sometimes</td>\n",
              "      <td>NaN</td>\n",
              "      <td>NaN</td>\n",
              "      <td>NaN</td>\n",
              "      <td>NaN</td>\n",
              "      <td>NaN</td>\n",
              "      <td>Rarely</td>\n",
              "      <td>Rarely</td>\n",
              "      <td>2.0</td>\n",
              "      <td>76-99% of projects</td>\n",
              "      <td>Do not know</td>\n",
              "      <td>Other</td>\n",
              "      <td>Rarely</td>\n",
              "      <td>9</td>\n",
              "    </tr>\n",
              "    <tr>\n",
              "      <th>4</th>\n",
              "      <td>5</td>\n",
              "      <td>Female</td>\n",
              "      <td>United States</td>\n",
              "      <td>35.0</td>\n",
              "      <td>Employed full-time</td>\n",
              "      <td>Yes</td>\n",
              "      <td>Software Developer/Software Engineer</td>\n",
              "      <td>Fine</td>\n",
              "      <td>Employed by a company that performs advanced a...</td>\n",
              "      <td>Google Cloud Compute</td>\n",
              "      <td>Neural Nets</td>\n",
              "      <td>Python</td>\n",
              "      <td>NaN</td>\n",
              "      <td>Very useful</td>\n",
              "      <td>Somewhat useful</td>\n",
              "      <td>NaN</td>\n",
              "      <td>NaN</td>\n",
              "      <td>Very useful</td>\n",
              "      <td>NaN</td>\n",
              "      <td>No</td>\n",
              "      <td>Doctoral degree</td>\n",
              "      <td>Mathematics or statistics</td>\n",
              "      <td>More than 10 years</td>\n",
              "      <td>Researcher,Software Developer/Software Engineer</td>\n",
              "      <td>Computer Vision</td>\n",
              "      <td>Bayesian Techniques,Evolutionary Approaches,Lo...</td>\n",
              "      <td>Internet-based</td>\n",
              "      <td>10,000 or more employees</td>\n",
              "      <td>Sometimes</td>\n",
              "      <td>Bayesian Techniques,CNNs,Regression/Logistic R...</td>\n",
              "      <td>Most of the time</td>\n",
              "      <td>NaN</td>\n",
              "      <td>NaN</td>\n",
              "      <td>Most of the time</td>\n",
              "      <td>Most of the time</td>\n",
              "      <td>NaN</td>\n",
              "      <td>Sometimes</td>\n",
              "      <td>Most of the time</td>\n",
              "      <td>Sometimes</td>\n",
              "      <td>NaN</td>\n",
              "      <td>NaN</td>\n",
              "      <td>NaN</td>\n",
              "      <td>NaN</td>\n",
              "      <td>NaN</td>\n",
              "      <td>NaN</td>\n",
              "      <td>NaN</td>\n",
              "      <td>NaN</td>\n",
              "      <td>Sometimes</td>\n",
              "      <td>8.0</td>\n",
              "      <td>100% of projects</td>\n",
              "      <td>Entirely internal</td>\n",
              "      <td>Other</td>\n",
              "      <td>Rarely</td>\n",
              "      <td>8</td>\n",
              "    </tr>\n",
              "  </tbody>\n",
              "</table>\n",
              "</div>"
            ],
            "text/plain": [
              "   ID GenderSelect  ... RemoteWork  JobSatisfaction\n",
              "0   1         Male  ...        NaN                4\n",
              "1   2         Male  ...        NaN                7\n",
              "2   3       Female  ...     Rarely                6\n",
              "3   4       Female  ...     Rarely                9\n",
              "4   5       Female  ...     Rarely                8\n",
              "\n",
              "[5 rows x 54 columns]"
            ]
          },
          "metadata": {
            "tags": []
          },
          "execution_count": 901
        }
      ]
    },
    {
      "cell_type": "code",
      "metadata": {
        "id": "_1WQJ34cY3SM"
      },
      "source": [
        "train_label=train_df.pop(\"JobSatisfaction\")\n"
      ],
      "execution_count": null,
      "outputs": []
    },
    {
      "cell_type": "code",
      "metadata": {
        "id": "FK7MfTIetQrE"
      },
      "source": [
        "train=train_df\n",
        "test=test_df"
      ],
      "execution_count": null,
      "outputs": []
    },
    {
      "cell_type": "code",
      "metadata": {
        "colab": {
          "base_uri": "https://localhost:8080/"
        },
        "id": "gvvB9DSSobtU",
        "outputId": "0a0080ef-0668-42ae-aa76-84459a0d3bee"
      },
      "source": [
        "train=train.drop(train.columns[[0,12,13,14,15,16,17,18,37,38,39,40,42,44]],axis=1)\n",
        "test=test.drop(test.columns[[0,12,13,14,15,16,17,18,37,38,39,40,42,44]],axis=1)\n",
        "train.info()"
      ],
      "execution_count": null,
      "outputs": [
        {
          "output_type": "stream",
          "text": [
            "<class 'pandas.core.frame.DataFrame'>\n",
            "RangeIndex: 5529 entries, 0 to 5528\n",
            "Data columns (total 39 columns):\n",
            " #   Column                                  Non-Null Count  Dtype  \n",
            "---  ------                                  --------------  -----  \n",
            " 0   GenderSelect                            5519 non-null   object \n",
            " 1   Country                                 5513 non-null   object \n",
            " 2   Age                                     5461 non-null   float64\n",
            " 3   EmploymentStatus                        5529 non-null   object \n",
            " 4   CodeWriter                              5529 non-null   object \n",
            " 5   CurrentJobTitleSelect                   5527 non-null   object \n",
            " 6   TitleFit                                5427 non-null   object \n",
            " 7   CurrentEmployerType                     5458 non-null   object \n",
            " 8   MLToolNextYearSelect                    5298 non-null   object \n",
            " 9   MLMethodNextYearSelect                  5252 non-null   object \n",
            " 10  LanguageRecommendationSelect            5334 non-null   object \n",
            " 11  DataScienceIdentitySelect               3984 non-null   object \n",
            " 12  FormalEducation                         5522 non-null   object \n",
            " 13  MajorSelect                             5010 non-null   object \n",
            " 14  Tenure                                  5515 non-null   object \n",
            " 15  PastJobTitlesSelect                     5324 non-null   object \n",
            " 16  MLSkillsSelect                          5256 non-null   object \n",
            " 17  MLTechniquesSelect                      5218 non-null   object \n",
            " 18  EmployerIndustry                        5517 non-null   object \n",
            " 19  EmployerSize                            4948 non-null   object \n",
            " 20  WorkProductionFrequency                 4903 non-null   object \n",
            " 21  WorkAlgorithmsSelect                    5103 non-null   object \n",
            " 22  WorkToolsFrequencyPython                4247 non-null   object \n",
            " 23  WorkToolsFrequencyR                     3357 non-null   object \n",
            " 24  WorkToolsFrequencySQL                   3000 non-null   object \n",
            " 25  WorkMethodsFrequencyCross-Validation    2802 non-null   object \n",
            " 26  WorkMethodsFrequencyDataVisualization   3620 non-null   object \n",
            " 27  WorkMethodsFrequencyDecisionTrees       2654 non-null   object \n",
            " 28  WorkMethodsFrequencyLogisticRegression  3126 non-null   object \n",
            " 29  WorkChallengeFrequencyPolitics          2092 non-null   object \n",
            " 30  WorkChallengeFrequencyDirtyData         2769 non-null   object \n",
            " 31  WorkChallengeFrequencyTalent            2366 non-null   object \n",
            " 32  WorkChallengeFrequencyClarity           1724 non-null   object \n",
            " 33  WorkChallengeFrequencyDataAccess        1720 non-null   object \n",
            " 34  CompensationScore                       4373 non-null   float64\n",
            " 35  WorkDataVisualizations                  5500 non-null   object \n",
            " 36  WorkInternalVsExternalTools             5413 non-null   object \n",
            " 37  WorkMLTeamSeatSelect                    5367 non-null   object \n",
            " 38  RemoteWork                              4947 non-null   object \n",
            "dtypes: float64(2), object(37)\n",
            "memory usage: 1.6+ MB\n"
          ],
          "name": "stdout"
        }
      ]
    },
    {
      "cell_type": "code",
      "metadata": {
        "id": "fO3lwXzRtPgU"
      },
      "source": [
        "train=train.drop(columns='WorkChallengeFrequencyClarity')\n",
        "#train=train.drop(columns='WorkChallengeFrequencyDataAccess')\n",
        "train=train.drop(columns='WorkToolsFrequencySQL')\n",
        "train=train.drop(columns='WorkMethodsFrequencyDecisionTrees')\n",
        "train=train.drop(columns='WorkMethodsFrequencyCross-Validation')\n",
        "train=train.drop(columns='WorkMethodsFrequencyLogisticRegression')\n",
        "#train=train.drop(columns='WorkChallengeFrequencyTalent')"
      ],
      "execution_count": null,
      "outputs": []
    },
    {
      "cell_type": "code",
      "metadata": {
        "id": "oDxcCPvEzHG7"
      },
      "source": [
        "test=test.drop(columns='WorkChallengeFrequencyClarity')\n",
        "#test=test.drop(columns='WorkChallengeFrequencyDataAccess')\n",
        "test=test.drop(columns='WorkToolsFrequencySQL')\n",
        "test=test.drop(columns='WorkMethodsFrequencyDecisionTrees')\n",
        "test=test.drop(columns='WorkMethodsFrequencyCross-Validation')\n",
        "test=test.drop(columns='WorkMethodsFrequencyLogisticRegression')"
      ],
      "execution_count": null,
      "outputs": []
    },
    {
      "cell_type": "code",
      "metadata": {
        "id": "z6_xPUIhu0ld"
      },
      "source": [
        "#test=test.drop(columns='WorkChallengeFrequencyTalent')"
      ],
      "execution_count": null,
      "outputs": []
    },
    {
      "cell_type": "code",
      "metadata": {
        "id": "U_yLqas0vf-U"
      },
      "source": [
        "test=test.drop(columns='WorkToolsFrequencyR')\n",
        "train=train.drop(columns='WorkToolsFrequencyR')\n"
      ],
      "execution_count": null,
      "outputs": []
    },
    {
      "cell_type": "code",
      "metadata": {
        "id": "SNQZkjrvzvDL"
      },
      "source": [
        "test=test.drop(columns='WorkAlgorithmsSelect')\n",
        "train=train.drop(columns='WorkAlgorithmsSelect')"
      ],
      "execution_count": null,
      "outputs": []
    },
    {
      "cell_type": "code",
      "metadata": {
        "id": "2OgCC7IOG4jf"
      },
      "source": [
        "test=test.drop(columns='MLMethodNextYearSelect')\n",
        "train=train.drop(columns='MLMethodNextYearSelect')"
      ],
      "execution_count": null,
      "outputs": []
    },
    {
      "cell_type": "code",
      "metadata": {
        "colab": {
          "base_uri": "https://localhost:8080/"
        },
        "id": "OVpN81wlIOl7",
        "outputId": "bb7c70e9-eb2b-4cef-95ac-2d8c13471494"
      },
      "source": [
        "print(test.shape,train.shape)"
      ],
      "execution_count": null,
      "outputs": [
        {
          "output_type": "stream",
          "text": [
            "(1000, 31) (5529, 31)\n"
          ],
          "name": "stdout"
        }
      ]
    },
    {
      "cell_type": "code",
      "metadata": {
        "colab": {
          "base_uri": "https://localhost:8080/"
        },
        "id": "LACOFlr9wjDf",
        "outputId": "1db07b28-f61b-4089-e604-aedd87761bf3"
      },
      "source": [
        "train[\"DataScienceIdentitySelect\"].unique()"
      ],
      "execution_count": null,
      "outputs": [
        {
          "output_type": "execute_result",
          "data": {
            "text/plain": [
              "array(['Sort of (Explain more)', 'No', nan, 'Yes'], dtype=object)"
            ]
          },
          "metadata": {
            "tags": []
          },
          "execution_count": 912
        }
      ]
    },
    {
      "cell_type": "code",
      "metadata": {
        "id": "y8o6s_rc0p5f"
      },
      "source": [
        "#too many attributes \n",
        "train=train.drop(columns='MLTechniquesSelect')\n",
        "train=train.drop(columns='MLSkillsSelect')\n",
        "train=train.drop(columns='PastJobTitlesSelect')\n",
        "\n",
        "test=test.drop(columns='MLTechniquesSelect')\n",
        "test=test.drop(columns='MLSkillsSelect')\n",
        "test=test.drop(columns='PastJobTitlesSelect')"
      ],
      "execution_count": null,
      "outputs": []
    },
    {
      "cell_type": "code",
      "metadata": {
        "colab": {
          "base_uri": "https://localhost:8080/"
        },
        "id": "AyWtUGzn1OLk",
        "outputId": "c6ad8587-8cb7-42e4-815e-00d1fcac5a47"
      },
      "source": [
        "train.isnull().sum()"
      ],
      "execution_count": null,
      "outputs": [
        {
          "output_type": "execute_result",
          "data": {
            "text/plain": [
              "GenderSelect                               10\n",
              "Country                                    16\n",
              "Age                                        68\n",
              "EmploymentStatus                            0\n",
              "CodeWriter                                  0\n",
              "CurrentJobTitleSelect                       2\n",
              "TitleFit                                  102\n",
              "CurrentEmployerType                        71\n",
              "MLToolNextYearSelect                      231\n",
              "LanguageRecommendationSelect              195\n",
              "DataScienceIdentitySelect                1545\n",
              "FormalEducation                             7\n",
              "MajorSelect                               519\n",
              "Tenure                                     14\n",
              "EmployerIndustry                           12\n",
              "EmployerSize                              581\n",
              "WorkProductionFrequency                   626\n",
              "WorkToolsFrequencyPython                 1282\n",
              "WorkMethodsFrequencyDataVisualization    1909\n",
              "WorkChallengeFrequencyPolitics           3437\n",
              "WorkChallengeFrequencyDirtyData          2760\n",
              "WorkChallengeFrequencyTalent             3163\n",
              "WorkChallengeFrequencyDataAccess         3809\n",
              "CompensationScore                        1156\n",
              "WorkDataVisualizations                     29\n",
              "WorkInternalVsExternalTools               116\n",
              "WorkMLTeamSeatSelect                      162\n",
              "RemoteWork                                582\n",
              "dtype: int64"
            ]
          },
          "metadata": {
            "tags": []
          },
          "execution_count": 914
        }
      ]
    },
    {
      "cell_type": "code",
      "metadata": {
        "id": "rsXwEu4HuNrt"
      },
      "source": [
        "#missing\n",
        "train['GenderSelect']=train['GenderSelect'].fillna(train['GenderSelect'].mode()[0])\n",
        "train['Country']=train['Country'].fillna(train['Country'].mode()[0])\n",
        "train['TitleFit']=train['TitleFit'].fillna(train['TitleFit'].mode()[0])\n",
        "train['MajorSelect']=train['MajorSelect'].fillna(train['MajorSelect'].mode()[0])\n",
        "train['CurrentEmployerType']=train['CurrentEmployerType'].fillna(train['CurrentEmployerType'].mode()[0])\n",
        "train['CurrentJobTitleSelect']=train['CurrentJobTitleSelect'].fillna(train['CurrentJobTitleSelect'].mode()[0])\n",
        "train['FormalEducation']=train['FormalEducation'].fillna(train['FormalEducation'].mode()[0])\n",
        "train['Tenure']=train['Tenure'].fillna(train['Tenure'].mode()[0])\n",
        "train['EmployerIndustry']=train['EmployerIndustry'].fillna(train['EmployerIndustry'].mode()[0])\n",
        "train['EmployerSize']=train['EmployerSize'].fillna(train['EmployerSize'].mode()[0])\n",
        "train['WorkProductionFrequency']=train['WorkProductionFrequency'].fillna(train['WorkProductionFrequency'].mode()[0])\n",
        "train['WorkDataVisualizations']=train['WorkDataVisualizations'].fillna(train['WorkDataVisualizations'].mode()[0])\n",
        "train['WorkInternalVsExternalTools']=train['WorkInternalVsExternalTools'].fillna(train['WorkInternalVsExternalTools'].mode()[0])\n",
        "train['WorkMLTeamSeatSelect']=train['WorkMLTeamSeatSelect'].fillna(train['WorkMLTeamSeatSelect'].mode()[0])\n",
        "train['RemoteWork']=train['RemoteWork'].fillna(train['RemoteWork'].mode()[0])\n",
        "train['MLToolNextYearSelect']=train['MLToolNextYearSelect'].fillna(train['MLToolNextYearSelect'].mode()[0])\n",
        "train['LanguageRecommendationSelect']=train['LanguageRecommendationSelect'].fillna(train['LanguageRecommendationSelect'].mode()[0])\n",
        "train['DataScienceIdentitySelect']=train['DataScienceIdentitySelect'].fillna(train['DataScienceIdentitySelect'].mode()[0])\n",
        "train['WorkMethodsFrequencyDataVisualization']=train['WorkMethodsFrequencyDataVisualization'].fillna(train['WorkMethodsFrequencyDataVisualization'].mode()[0])\n",
        "train['WorkToolsFrequencyPython']=train['WorkToolsFrequencyPython'].fillna(train['WorkToolsFrequencyPython'].mode()[0])\n",
        "train['WorkChallengeFrequencyDirtyData']=train['WorkChallengeFrequencyDirtyData'].fillna(train['WorkChallengeFrequencyDirtyData'].mode()[0]) \n",
        "train['WorkChallengeFrequencyPolitics']=train['WorkChallengeFrequencyPolitics'].fillna(train['WorkChallengeFrequencyPolitics'].mode()[0])   \n",
        "train['WorkChallengeFrequencyTalent']=train['WorkChallengeFrequencyTalent'].fillna(train['WorkChallengeFrequencyTalent'].mode()[0]) \n",
        "train['WorkChallengeFrequencyDataAccess']=train['WorkChallengeFrequencyDataAccess'].fillna(train['WorkChallengeFrequencyDataAccess'].mode()[0])     \n",
        "\n",
        "\n",
        "\n",
        "\n",
        "\n",
        "\n",
        "test['GenderSelect']=test['GenderSelect'].fillna(train['GenderSelect'].mode()[0])\n",
        "test['Country']=test['Country'].fillna(train['Country'].mode()[0])\n",
        "test['TitleFit']=test['TitleFit'].fillna(train['TitleFit'].mode()[0])\n",
        "test['MajorSelect']=test['MajorSelect'].fillna(train['MajorSelect'].mode()[0])\n",
        "test['CurrentEmployerType']=test['CurrentEmployerType'].fillna(train['CurrentEmployerType'].mode()[0])\n",
        "test['CurrentJobTitleSelect']=test['CurrentJobTitleSelect'].fillna(train['CurrentJobTitleSelect'].mode()[0])\n",
        "test['FormalEducation']=test['FormalEducation'].fillna(train['FormalEducation'].mode()[0])\n",
        "test['Tenure']=test['Tenure'].fillna(train['Tenure'].mode()[0])\n",
        "test['EmployerIndustry']=test['EmployerIndustry'].fillna(train['EmployerIndustry'].mode()[0])\n",
        "test['EmployerSize']=test['EmployerSize'].fillna(train['EmployerSize'].mode()[0])\n",
        "test['WorkProductionFrequency']=test['WorkProductionFrequency'].fillna(train['WorkProductionFrequency'].mode()[0])\n",
        "test['WorkDataVisualizations']=test['WorkDataVisualizations'].fillna(train['WorkDataVisualizations'].mode()[0])\n",
        "test['WorkInternalVsExternalTools']=test['WorkInternalVsExternalTools'].fillna(train['WorkInternalVsExternalTools'].mode()[0])\n",
        "test['WorkMLTeamSeatSelect']=test['WorkMLTeamSeatSelect'].fillna(train['WorkMLTeamSeatSelect'].mode()[0])\n",
        "test['RemoteWork']=test['RemoteWork'].fillna(train['RemoteWork'].mode()[0])\n",
        "test['MLToolNextYearSelect']=test['MLToolNextYearSelect'].fillna(train['MLToolNextYearSelect'].mode()[0])\n",
        "test['LanguageRecommendationSelect']=test['LanguageRecommendationSelect'].fillna(train['LanguageRecommendationSelect'].mode()[0])\n",
        "test['DataScienceIdentitySelect']=test['DataScienceIdentitySelect'].fillna(train['DataScienceIdentitySelect'].mode()[0])\n",
        "test['WorkMethodsFrequencyDataVisualization']=test['WorkMethodsFrequencyDataVisualization'].fillna(train['WorkMethodsFrequencyDataVisualization'].mode()[0])\n",
        "test['WorkToolsFrequencyPython']=test['WorkToolsFrequencyPython'].fillna(train['WorkToolsFrequencyPython'].mode()[0])\n",
        "test['WorkChallengeFrequencyDirtyData']=test['WorkChallengeFrequencyDirtyData'].fillna(train['WorkChallengeFrequencyDirtyData'].mode()[0])\n",
        "test['WorkChallengeFrequencyPolitics']=test['WorkChallengeFrequencyPolitics'].fillna(train['WorkChallengeFrequencyPolitics'].mode()[0])\n",
        "test['WorkChallengeFrequencyTalent']=test['WorkChallengeFrequencyTalent'].fillna(train['WorkChallengeFrequencyTalent'].mode()[0])\n",
        "test['WorkChallengeFrequencyDataAccess']=test['WorkChallengeFrequencyDataAccess'].fillna(train['WorkChallengeFrequencyDataAccess'].mode()[0])\n",
        " \n",
        "\n",
        "#mean\n",
        "train['Age']=train['Age'].fillna(train['Age'].mean())\n",
        "train['CompensationScore']=train['CompensationScore'].fillna(train['CompensationScore'].mean())\n",
        "\n",
        "\n",
        "test['Age']=test['Age'].fillna(train['Age'].mean())\n",
        "test['CompensationScore']=test['CompensationScore'].fillna(train['CompensationScore'].mean())\n"
      ],
      "execution_count": null,
      "outputs": []
    },
    {
      "cell_type": "code",
      "metadata": {
        "colab": {
          "base_uri": "https://localhost:8080/"
        },
        "id": "7ynM0tspzukY",
        "outputId": "a188f59f-ea3f-4135-9dac-d83e1e4f6eea"
      },
      "source": [
        "train.isnull().sum()"
      ],
      "execution_count": null,
      "outputs": [
        {
          "output_type": "execute_result",
          "data": {
            "text/plain": [
              "GenderSelect                             0\n",
              "Country                                  0\n",
              "Age                                      0\n",
              "EmploymentStatus                         0\n",
              "CodeWriter                               0\n",
              "CurrentJobTitleSelect                    0\n",
              "TitleFit                                 0\n",
              "CurrentEmployerType                      0\n",
              "MLToolNextYearSelect                     0\n",
              "LanguageRecommendationSelect             0\n",
              "DataScienceIdentitySelect                0\n",
              "FormalEducation                          0\n",
              "MajorSelect                              0\n",
              "Tenure                                   0\n",
              "EmployerIndustry                         0\n",
              "EmployerSize                             0\n",
              "WorkProductionFrequency                  0\n",
              "WorkToolsFrequencyPython                 0\n",
              "WorkMethodsFrequencyDataVisualization    0\n",
              "WorkChallengeFrequencyPolitics           0\n",
              "WorkChallengeFrequencyDirtyData          0\n",
              "WorkChallengeFrequencyTalent             0\n",
              "WorkChallengeFrequencyDataAccess         0\n",
              "CompensationScore                        0\n",
              "WorkDataVisualizations                   0\n",
              "WorkInternalVsExternalTools              0\n",
              "WorkMLTeamSeatSelect                     0\n",
              "RemoteWork                               0\n",
              "dtype: int64"
            ]
          },
          "metadata": {
            "tags": []
          },
          "execution_count": 916
        }
      ]
    },
    {
      "cell_type": "code",
      "metadata": {
        "id": "zAXXl2Af5aQc",
        "colab": {
          "base_uri": "https://localhost:8080/",
          "height": 210
        },
        "outputId": "06da6dcf-a999-45df-b129-8f831ce70d29"
      },
      "source": [
        "train.head(2)"
      ],
      "execution_count": null,
      "outputs": [
        {
          "output_type": "execute_result",
          "data": {
            "text/html": [
              "<div>\n",
              "<style scoped>\n",
              "    .dataframe tbody tr th:only-of-type {\n",
              "        vertical-align: middle;\n",
              "    }\n",
              "\n",
              "    .dataframe tbody tr th {\n",
              "        vertical-align: top;\n",
              "    }\n",
              "\n",
              "    .dataframe thead th {\n",
              "        text-align: right;\n",
              "    }\n",
              "</style>\n",
              "<table border=\"1\" class=\"dataframe\">\n",
              "  <thead>\n",
              "    <tr style=\"text-align: right;\">\n",
              "      <th></th>\n",
              "      <th>GenderSelect</th>\n",
              "      <th>Country</th>\n",
              "      <th>Age</th>\n",
              "      <th>EmploymentStatus</th>\n",
              "      <th>CodeWriter</th>\n",
              "      <th>CurrentJobTitleSelect</th>\n",
              "      <th>TitleFit</th>\n",
              "      <th>CurrentEmployerType</th>\n",
              "      <th>MLToolNextYearSelect</th>\n",
              "      <th>LanguageRecommendationSelect</th>\n",
              "      <th>DataScienceIdentitySelect</th>\n",
              "      <th>FormalEducation</th>\n",
              "      <th>MajorSelect</th>\n",
              "      <th>Tenure</th>\n",
              "      <th>EmployerIndustry</th>\n",
              "      <th>EmployerSize</th>\n",
              "      <th>WorkProductionFrequency</th>\n",
              "      <th>WorkToolsFrequencyPython</th>\n",
              "      <th>WorkMethodsFrequencyDataVisualization</th>\n",
              "      <th>WorkChallengeFrequencyPolitics</th>\n",
              "      <th>WorkChallengeFrequencyDirtyData</th>\n",
              "      <th>WorkChallengeFrequencyTalent</th>\n",
              "      <th>WorkChallengeFrequencyDataAccess</th>\n",
              "      <th>CompensationScore</th>\n",
              "      <th>WorkDataVisualizations</th>\n",
              "      <th>WorkInternalVsExternalTools</th>\n",
              "      <th>WorkMLTeamSeatSelect</th>\n",
              "      <th>RemoteWork</th>\n",
              "    </tr>\n",
              "  </thead>\n",
              "  <tbody>\n",
              "    <tr>\n",
              "      <th>0</th>\n",
              "      <td>Male</td>\n",
              "      <td>Pakistan</td>\n",
              "      <td>28.0</td>\n",
              "      <td>Independent contractor, freelancer, or self-em...</td>\n",
              "      <td>Yes</td>\n",
              "      <td>Software Developer/Software Engineer</td>\n",
              "      <td>Fine</td>\n",
              "      <td>Self-employed</td>\n",
              "      <td>Python</td>\n",
              "      <td>SAS</td>\n",
              "      <td>Sort of (Explain more)</td>\n",
              "      <td>Bachelor's degree</td>\n",
              "      <td>Information technology, networking, or system ...</td>\n",
              "      <td>3 to 5 years</td>\n",
              "      <td>Technology</td>\n",
              "      <td>10,000 or more employees</td>\n",
              "      <td>Always</td>\n",
              "      <td>Often</td>\n",
              "      <td>Most of the time</td>\n",
              "      <td>Often</td>\n",
              "      <td>Often</td>\n",
              "      <td>Often</td>\n",
              "      <td>Often</td>\n",
              "      <td>8.000000</td>\n",
              "      <td>51-75% of projects</td>\n",
              "      <td>Approximately half internal and half external</td>\n",
              "      <td>Standalone Team</td>\n",
              "      <td>Sometimes</td>\n",
              "    </tr>\n",
              "    <tr>\n",
              "      <th>1</th>\n",
              "      <td>Male</td>\n",
              "      <td>Mexico</td>\n",
              "      <td>26.0</td>\n",
              "      <td>Employed full-time</td>\n",
              "      <td>Yes</td>\n",
              "      <td>Computer Scientist</td>\n",
              "      <td>Poorly</td>\n",
              "      <td>Employed by a company that doesn't perform adv...</td>\n",
              "      <td>Python</td>\n",
              "      <td>Python</td>\n",
              "      <td>No</td>\n",
              "      <td>Master's degree</td>\n",
              "      <td>Computer Science</td>\n",
              "      <td>1 to 2 years</td>\n",
              "      <td>Government</td>\n",
              "      <td>1,000 to 4,999 employees</td>\n",
              "      <td>Rarely</td>\n",
              "      <td>Sometimes</td>\n",
              "      <td>Most of the time</td>\n",
              "      <td>Often</td>\n",
              "      <td>Most of the time</td>\n",
              "      <td>Often</td>\n",
              "      <td>Often</td>\n",
              "      <td>4.445003</td>\n",
              "      <td>100% of projects</td>\n",
              "      <td>More internal than external</td>\n",
              "      <td>Business Department</td>\n",
              "      <td>Sometimes</td>\n",
              "    </tr>\n",
              "  </tbody>\n",
              "</table>\n",
              "</div>"
            ],
            "text/plain": [
              "  GenderSelect   Country  ...  WorkMLTeamSeatSelect RemoteWork\n",
              "0         Male  Pakistan  ...       Standalone Team  Sometimes\n",
              "1         Male    Mexico  ...   Business Department  Sometimes\n",
              "\n",
              "[2 rows x 28 columns]"
            ]
          },
          "metadata": {
            "tags": []
          },
          "execution_count": 917
        }
      ]
    },
    {
      "cell_type": "code",
      "metadata": {
        "colab": {
          "base_uri": "https://localhost:8080/"
        },
        "id": "sIQaLtbVog1o",
        "outputId": "58ca76d4-fcde-4294-d96a-47565872b7e4"
      },
      "source": [
        "train[\"EmployerIndustry\"].unique()"
      ],
      "execution_count": null,
      "outputs": [
        {
          "output_type": "execute_result",
          "data": {
            "text/plain": [
              "array(['Technology', 'Government', 'Academic', 'Internet-based',\n",
              "       'Mix of fields', 'Telecommunications', 'Insurance',\n",
              "       'Military/Security', 'CRM/Marketing', 'Financial', 'Other',\n",
              "       'Retail', 'Manufacturing', 'Pharmaceutical',\n",
              "       'Hospitality/Entertainment/Sports', 'Non-profit'], dtype=object)"
            ]
          },
          "metadata": {
            "tags": []
          },
          "execution_count": 918
        }
      ]
    },
    {
      "cell_type": "code",
      "metadata": {
        "id": "H0j4FbOHcwqG"
      },
      "source": [
        "country_list = train[\"EmployerIndustry\"].unique()\n",
        "no_of_countries = len(country_list)\n",
        "\n",
        "arr = []\n",
        "for i in range(no_of_countries):\n",
        "    row = []\n",
        "    name = train[\"EmployerIndustry\"].unique()[i]\n",
        "    row.append(name)\n",
        "    row.append(0)\n",
        "    row.append(0)\n",
        "    arr.append(row)\n",
        "\n",
        "index = train.index\n",
        "number_of_rows = len(index)\n",
        "for i in range(no_of_countries):\n",
        "  curr_country = country_list[i]\n",
        "  for j in range (number_of_rows):\n",
        "    if train['EmployerIndustry'].values[j] != \"NaN\" and train['EmployerIndustry'].values[j] == curr_country:\n",
        "      arr[i][1] += train_label.values[j]\n",
        "      arr[i][2] += 1\n",
        "\n",
        "avg_satis_list = []\n",
        "for i in range(no_of_countries):\n",
        "    row = []\n",
        "    name = train[\"EmployerIndustry\"].unique()[i]\n",
        "    row.append(name)\n",
        "    if arr[i][2] != 0:\n",
        "      avg_jobsatis = arr[i][1] / arr[i][2]\n",
        "      row.append(avg_jobsatis)\n",
        "      avg_satis_list.append(row)"
      ],
      "execution_count": null,
      "outputs": []
    },
    {
      "cell_type": "code",
      "metadata": {
        "colab": {
          "base_uri": "https://localhost:8080/"
        },
        "id": "CF0xSHF5eCiB",
        "outputId": "a044c53d-5613-42b4-826f-cab99d2f8acd"
      },
      "source": [
        "avg_satis_list"
      ],
      "execution_count": null,
      "outputs": [
        {
          "output_type": "execute_result",
          "data": {
            "text/plain": [
              "[['Technology', 6.783363802559415],\n",
              " ['Government', 6.485148514851486],\n",
              " ['Academic', 6.874434389140271],\n",
              " ['Internet-based', 6.9475],\n",
              " ['Mix of fields', 6.889097744360902],\n",
              " ['Telecommunications', 6.650793650793651],\n",
              " ['Insurance', 6.823204419889502],\n",
              " ['Military/Security', 6.476190476190476],\n",
              " ['CRM/Marketing', 6.634146341463414],\n",
              " ['Financial', 6.793103448275862],\n",
              " ['Other', 6.775431861804223],\n",
              " ['Retail', 6.394736842105263],\n",
              " ['Manufacturing', 6.463541666666667],\n",
              " ['Pharmaceutical', 6.976190476190476],\n",
              " ['Hospitality/Entertainment/Sports', 6.825396825396825],\n",
              " ['Non-profit', 6.383720930232558]]"
            ]
          },
          "metadata": {
            "tags": []
          },
          "execution_count": 920
        }
      ]
    },
    {
      "cell_type": "code",
      "metadata": {
        "id": "iydjsu4JeR5P"
      },
      "source": [
        "for i in range (number_of_rows):\n",
        "  for j in range(no_of_countries): \n",
        "    curr_country = country_list[j] \n",
        "    #print(i, j)\n",
        "    if train['EmployerIndustry'].values[i] != \"NaN\" and train['EmployerIndustry'].values[i] == curr_country: #replacing satisfactions with avg specific to country\n",
        "      for x in avg_satis_list:\n",
        "        if x[0]==train['EmployerIndustry'].values[i]:\n",
        "          value=float(x[1])\n",
        "      train.loc[train['EmployerIndustry'] == curr_country, \"EmployerIndustry\"]=value\n",
        "\n",
        "\n",
        "\n",
        "train.loc[(train['EmployerIndustry'] > 6) & (train['EmployerIndustry']< 6.5), \"EmployerIndustry\"] = 0\n",
        "train.loc[(train['EmployerIndustry'] > 6.5) & (train['EmployerIndustry']< 7), \"EmployerIndustry\"] = 1\n",
        "train.loc[(train['EmployerIndustry'] > 7) & (train['EmployerIndustry']< 7.5), \"EmployerIndustry\"] = 2\n",
        "\n",
        "\n",
        "\n",
        "country_list = test[\"EmployerIndustry\"].unique()\n",
        "no_of_countries = len(country_list)\n",
        "\n",
        "arr = []\n",
        "for i in range(no_of_countries):\n",
        "    row = []\n",
        "    name = test_df[\"EmployerIndustry\"].unique()[i]\n",
        "    row.append(name)\n",
        "    row.append(0)\n",
        "    row.append(0)\n",
        "    arr.append(row)\n",
        "\n",
        "\n",
        "index = test.index\n",
        "number_of_rows = len(index)\n",
        "\n",
        "#changing jobsatisfaction values\n",
        "for i in range (number_of_rows):\n",
        "  for j in range(no_of_countries): \n",
        "    curr_country = country_list[j] \n",
        "    #print(i, j)\n",
        "    if test['EmployerIndustry'].values[i] != \"NaN\" and test['EmployerIndustry'].values[i] == curr_country: \n",
        "      for x in avg_satis_list:\n",
        "        if x[0]==test['EmployerIndustry'].values[i]:\n",
        "          value=float(x[1])\n",
        "      test.loc[test['EmployerIndustry'] == curr_country, \"EmployerIndustry\"]=value\n",
        "\n",
        "\n",
        "\n",
        "\n",
        "test.loc[(test['EmployerIndustry'] > 6) & (test['EmployerIndustry']< 6.5), \"EmployerIndustry\"] = 0\n",
        "test.loc[(test['EmployerIndustry'] > 6.5) & (test['EmployerIndustry']< 7), \"EmployerIndustry\"] = 1\n",
        "test.loc[(test['EmployerIndustry'] > 7) & (test['EmployerIndustry']< 7.5), \"EmployerIndustry\"] = 2\n",
        "\n"
      ],
      "execution_count": null,
      "outputs": []
    },
    {
      "cell_type": "code",
      "metadata": {
        "id": "GwjOLHXOi-nx"
      },
      "source": [
        "country_list = train[\"Country\"].unique()\n",
        "no_of_countries = len(country_list)\n",
        "\n",
        "arr = []\n",
        "for i in range(no_of_countries):\n",
        "    row = []\n",
        "    name = train[\"Country\"].unique()[i]\n",
        "    row.append(name)\n",
        "    row.append(0)\n",
        "    row.append(0)\n",
        "    arr.append(row)\n",
        "\n",
        "index = train.index\n",
        "number_of_rows = len(index)\n",
        "for i in range(no_of_countries):\n",
        "  curr_country = country_list[i]\n",
        "  for j in range (number_of_rows):\n",
        "    if train['Country'].values[j] != \"NaN\" and train['Country'].values[j] == curr_country:\n",
        "      arr[i][1] += train_label.values[j]\n",
        "      arr[i][2] += 1\n",
        "\n",
        "avg_satis_list = []\n",
        "for i in range(no_of_countries):\n",
        "    row = []\n",
        "    name = train[\"Country\"].unique()[i]\n",
        "    row.append(name)\n",
        "    if arr[i][2] != 0:\n",
        "      avg_jobsatis = arr[i][1] / arr[i][2]\n",
        "      row.append(avg_jobsatis)\n",
        "      avg_satis_list.append(row)\n",
        "\n",
        "\n",
        "\n",
        "for i in range (number_of_rows):\n",
        "  for j in range(no_of_countries): \n",
        "    curr_country = country_list[j] \n",
        "    #print(i, j)\n",
        "    if train['Country'].values[i] != \"NaN\" and train['Country'].values[i] == curr_country: \n",
        "      for x in avg_satis_list:\n",
        "        if x[0]==train['Country'].values[i]:\n",
        "          value=float(x[1])\n",
        "      train.loc[train['Country'] == curr_country, \"Country\"]=value\n",
        "\n",
        "\n",
        "train.loc[(train['Country'] > 5.5) & (train['Country']< 6), \"Country\"] = 1\n",
        "train.loc[(train['Country'] > 6) & (train['Country']< 6.5), \"Country\"] = 2\n",
        "train.loc[(train['Country'] > 6.5) & (train['Country']< 7), \"Country\"] = 3\n",
        "train.loc[(train['Country'] > 7) & (train['Country']< 7.5), \"Country\"] = 4\n",
        "train.loc[train['Country'] > 7.5, \"Country\"] = 5\n",
        "\n",
        "\n",
        "country_list = test[\"Country\"].unique()\n",
        "no_of_countries = len(country_list)\n",
        "\n",
        "arr = []\n",
        "for i in range(no_of_countries):\n",
        "    row = []\n",
        "    name = test_df[\"Country\"].unique()[i]\n",
        "    row.append(name)\n",
        "    row.append(0)\n",
        "    row.append(0)\n",
        "    arr.append(row)\n",
        "\n",
        "\n",
        "index = test.index\n",
        "number_of_rows = len(index)\n",
        "\n",
        "#changing jobsatisfaction values\n",
        "for i in range (number_of_rows):\n",
        "  for j in range(no_of_countries): \n",
        "    curr_country = country_list[j] \n",
        "    #print(i, j)\n",
        "    if test['Country'].values[i] != \"NaN\" and test['Country'].values[i] == curr_country: \n",
        "      for x in avg_satis_list:\n",
        "        if x[0]==test['Country'].values[i]:\n",
        "          value=float(x[1])\n",
        "      test.loc[test['Country'] == curr_country, \"Country\"]=value\n"
      ],
      "execution_count": null,
      "outputs": []
    },
    {
      "cell_type": "code",
      "metadata": {
        "id": "A50ov_iWHpLy"
      },
      "source": [
        "test.loc[(test['Country'] > 5.5) & (test['Country']< 6), \"Country\"] = 1\n",
        "test.loc[(test['Country'] > 6) & (test['Country']< 6.5), \"Country\"] = 2\n",
        "test.loc[(test['Country'] > 6.5) & (test['Country']< 7), \"Country\"] = 3\n",
        "test.loc[(test['Country'] > 7) & (test['Country']< 7.5), \"Country\"] = 4\n",
        "test.loc[test['Country'] > 7.5, \"Country\"] = 5"
      ],
      "execution_count": null,
      "outputs": []
    },
    {
      "cell_type": "code",
      "metadata": {
        "id": "71Ni516XoDFG"
      },
      "source": [
        "country_list = train[\"MajorSelect\"].unique()\n",
        "no_of_countries = len(country_list)\n",
        "\n",
        "arr = []\n",
        "for i in range(no_of_countries):\n",
        "    row = []\n",
        "    name = train[\"MajorSelect\"].unique()[i]\n",
        "    row.append(name)\n",
        "    row.append(0)\n",
        "    row.append(0)\n",
        "    arr.append(row)\n",
        "\n",
        "index = train.index\n",
        "number_of_rows = len(index)\n",
        "for i in range(no_of_countries):\n",
        "  curr_country = country_list[i]\n",
        "  for j in range (number_of_rows):\n",
        "    if train['MajorSelect'].values[j] != \"NaN\" and train['MajorSelect'].values[j] == curr_country:\n",
        "      arr[i][1] += train_label.values[j]\n",
        "      arr[i][2] += 1\n",
        "\n",
        "avg_satis_list = []\n",
        "for i in range(no_of_countries):\n",
        "    row = []\n",
        "    name = train[\"MajorSelect\"].unique()[i]\n",
        "    row.append(name)\n",
        "    if arr[i][2] != 0:\n",
        "      avg_jobsatis = arr[i][1] / arr[i][2]\n",
        "      row.append(avg_jobsatis)\n",
        "      avg_satis_list.append(row)\n",
        "\n",
        "\n",
        "\n",
        "for i in range (number_of_rows):\n",
        "  for j in range(no_of_countries): \n",
        "    curr_country = country_list[j] \n",
        "    #print(i, j)\n",
        "    if train['MajorSelect'].values[i] != \"NaN\" and train['MajorSelect'].values[i] == curr_country: #replacing satisfactions with avg specific to country\n",
        "      for x in avg_satis_list:\n",
        "        if x[0]==train['MajorSelect'].values[i]:\n",
        "          value=float(x[1])\n",
        "      train.loc[train['MajorSelect'] == curr_country, \"MajorSelect\"]=value\n",
        "\n",
        "\n",
        "train.loc[(train['MajorSelect'] > 6) & (train['MajorSelect']< 6.5), \"MajorSelect\"] = 1\n",
        "train.loc[(train['MajorSelect'] > 6.5) & (train['MajorSelect']< 7), \"MajorSelect\"] = 2\n",
        "train.loc[(train['MajorSelect'] > 7) & (train['MajorSelect']< 7.5), \"MajorSelect\"] = 3\n",
        "\n",
        "\n",
        "\n",
        "country_list = test[\"MajorSelect\"].unique()\n",
        "no_of_countries = len(country_list)\n",
        "\n",
        "arr = []\n",
        "for i in range(no_of_countries):\n",
        "    row = []\n",
        "    name = test_df[\"MajorSelect\"].unique()[i]\n",
        "    row.append(name)\n",
        "    row.append(0)\n",
        "    row.append(0)\n",
        "    arr.append(row)\n",
        "\n",
        "\n",
        "index = test.index\n",
        "number_of_rows = len(index)\n",
        "\n",
        "#changing jobsatisfaction values\n",
        "for i in range (number_of_rows):\n",
        "  for j in range(no_of_countries): \n",
        "    curr_country = country_list[j] \n",
        "    #print(i, j)\n",
        "    if test['MajorSelect'].values[i] != \"NaN\" and test['MajorSelect'].values[i] == curr_country: #replacing satisfactions with avg specific to country\n",
        "      for x in avg_satis_list:\n",
        "        if x[0]==test['MajorSelect'].values[i]:\n",
        "          value=float(x[1])\n",
        "      test.loc[test['MajorSelect'] == curr_country, \"MajorSelect\"]=value\n",
        "\n",
        "\n",
        "\n",
        "test.loc[(test['MajorSelect'] > 6) & (test['MajorSelect']< 6.5), \"MajorSelect\"] = 1\n",
        "test.loc[(test['MajorSelect'] > 6.5) & (test['MajorSelect']< 7), \"MajorSelect\"] = 2\n",
        "test.loc[(test['MajorSelect'] > 7) & (test['MajorSelect']< 7.5), \"MajorSelect\"] = 3\n"
      ],
      "execution_count": null,
      "outputs": []
    },
    {
      "cell_type": "code",
      "metadata": {
        "colab": {
          "base_uri": "https://localhost:8080/"
        },
        "id": "_BHYGUqtR8zi",
        "outputId": "17f06c16-767f-42bb-a0b1-29fd754d8e0f"
      },
      "source": [
        "avg_satis_list"
      ],
      "execution_count": null,
      "outputs": [
        {
          "output_type": "execute_result",
          "data": {
            "text/plain": [
              "[['Information technology, networking, or system administration',\n",
              "  6.662037037037037],\n",
              " ['Computer Science', 6.689161554192229],\n",
              " ['Mathematics or statistics', 6.970924195223261],\n",
              " ['Engineering (non-computer focused)', 6.641821946169772],\n",
              " ['Physics', 6.9655172413793105],\n",
              " ['Biology', 6.874074074074074],\n",
              " ['Electrical Engineering', 6.671428571428572],\n",
              " ['A social science', 6.82995951417004],\n",
              " ['Other', 6.641025641025641],\n",
              " ['Psychology', 6.972222222222222],\n",
              " ['A health science', 7.245283018867925],\n",
              " ['Fine arts or performing arts', 6.0588235294117645],\n",
              " ['A humanities discipline', 6.9],\n",
              " ['Management information systems', 6.4605263157894735],\n",
              " ['I never declared a major', 6.739130434782608]]"
            ]
          },
          "metadata": {
            "tags": []
          },
          "execution_count": 925
        }
      ]
    },
    {
      "cell_type": "code",
      "metadata": {
        "id": "7hJD8zgGwTF4"
      },
      "source": [
        "country_list = train[\"FormalEducation\"].unique()\n",
        "no_of_countries = len(country_list)\n",
        "\n",
        "arr = []\n",
        "for i in range(no_of_countries):\n",
        "    row = []\n",
        "    name = train[\"FormalEducation\"].unique()[i]\n",
        "    row.append(name)\n",
        "    row.append(0)\n",
        "    row.append(0)\n",
        "    arr.append(row)\n",
        "\n",
        "index = train.index\n",
        "number_of_rows = len(index)\n",
        "for i in range(no_of_countries):\n",
        "  curr_country = country_list[i]\n",
        "  for j in range (number_of_rows):\n",
        "    if train['FormalEducation'].values[j] != \"NaN\" and train['FormalEducation'].values[j] == curr_country:\n",
        "      arr[i][1] += train_label.values[j]\n",
        "      arr[i][2] += 1\n",
        "\n",
        "avg_satis_list = []\n",
        "for i in range(no_of_countries):\n",
        "    row = []\n",
        "    name = train[\"FormalEducation\"].unique()[i]\n",
        "    row.append(name)\n",
        "    if arr[i][2] != 0:\n",
        "      avg_jobsatis = arr[i][1] / arr[i][2]\n",
        "      row.append(avg_jobsatis)\n",
        "      avg_satis_list.append(row)\n",
        "\n",
        "\n",
        "\n",
        "for i in range (number_of_rows):\n",
        "  for j in range(no_of_countries): \n",
        "    curr_country = country_list[j] \n",
        "    #print(i, j)\n",
        "    if train['FormalEducation'].values[i] != \"NaN\" and train['FormalEducation'].values[i] == curr_country: #replacing satisfactions with avg specific to country\n",
        "      for x in avg_satis_list:\n",
        "        if x[0]==train['FormalEducation'].values[i]:\n",
        "          value=float(x[1])\n",
        "      train.loc[train['FormalEducation'] == curr_country, \"FormalEducation\"]=value\n",
        "\n",
        "\n",
        "train.loc[(train['FormalEducation'] > 5.5) & (train['FormalEducation']< 6), \"FormalEducation\"] = 1\n",
        "train.loc[(train['FormalEducation'] > 6) & (train['FormalEducation']< 6.5), \"FormalEducation\"] = 2\n",
        "train.loc[(train['FormalEducation'] > 6.5) & (train['FormalEducation']< 7), \"FormalEducation\"] = 3\n",
        "train.loc[(train['FormalEducation'] > 7) & (train['FormalEducation']< 7.5), \"FormalEducation\"] = 4\n",
        "train.loc[train['FormalEducation'] > 7.5, \"FormalEducation\"] = 5\n",
        "\n",
        "\n",
        "country_list = test[\"FormalEducation\"].unique()\n",
        "no_of_countries = len(country_list)\n",
        "\n",
        "arr = []\n",
        "for i in range(no_of_countries):\n",
        "    row = []\n",
        "    name = test_df[\"FormalEducation\"].unique()[i]\n",
        "    row.append(name)\n",
        "    row.append(0)\n",
        "    row.append(0)\n",
        "    arr.append(row)\n",
        "\n",
        "\n",
        "index = test.index\n",
        "number_of_rows = len(index)\n",
        "\n",
        "#changing jobsatisfaction values\n",
        "for i in range (number_of_rows):\n",
        "  for j in range(no_of_countries): \n",
        "    curr_country = country_list[j] \n",
        "    #print(i, j)\n",
        "    if test['FormalEducation'].values[i] != \"NaN\" and test['FormalEducation'].values[i] == curr_country: #replacing satisfactions with avg specific to country\n",
        "      for x in avg_satis_list:\n",
        "        if x[0]==test['FormalEducation'].values[i]:\n",
        "          value=float(x[1])\n",
        "      test.loc[test['FormalEducation'] == curr_country, \"FormalEducation\"]=value\n",
        "\n",
        "\n",
        "\n",
        "\n",
        "test.loc[(test['FormalEducation'] > 5.5) & (test['FormalEducation']< 6), \"FormalEducation\"] = 1\n",
        "test.loc[(test['FormalEducation'] > 6) & (test['FormalEducation']< 6.5), \"FormalEducation\"] = 2\n",
        "test.loc[(test['FormalEducation'] > 6.5) & (test['FormalEducation']< 7), \"FormalEducation\"] = 3\n",
        "test.loc[(test['FormalEducation'] > 7) & (test['FormalEducation']< 7.5), \"FormalEducation\"] = 4\n",
        "test.loc[test[\"FormalEducation\"] > 7.5, \"FormalEducation\"] = 5"
      ],
      "execution_count": null,
      "outputs": []
    },
    {
      "cell_type": "code",
      "metadata": {
        "id": "Hrl5SaXexw_W"
      },
      "source": [
        "country_list = train[\"CurrentEmployerType\"].unique()\n",
        "no_of_countries = len(country_list)\n",
        "\n",
        "arr = []\n",
        "for i in range(no_of_countries):\n",
        "    row = []\n",
        "    name = train[\"CurrentEmployerType\"].unique()[i]\n",
        "    row.append(name)\n",
        "    row.append(0)\n",
        "    row.append(0)\n",
        "    arr.append(row)\n",
        "\n",
        "index = train.index\n",
        "number_of_rows = len(index)\n",
        "for i in range(no_of_countries):\n",
        "  curr_country = country_list[i]\n",
        "  for j in range (number_of_rows):\n",
        "    if train['CurrentEmployerType'].values[j] != \"NaN\" and train['CurrentEmployerType'].values[j] == curr_country:\n",
        "      arr[i][1] += train_label.values[j]\n",
        "      arr[i][2] += 1\n",
        "\n",
        "avg_satis_list = []\n",
        "for i in range(no_of_countries):\n",
        "    row = []\n",
        "    name = train[\"CurrentEmployerType\"].unique()[i]\n",
        "    row.append(name)\n",
        "    if arr[i][2] != 0:\n",
        "      avg_jobsatis = arr[i][1] / arr[i][2]\n",
        "      row.append(avg_jobsatis)\n",
        "      avg_satis_list.append(row)\n",
        "\n",
        "\n",
        "\n",
        "for i in range (number_of_rows):\n",
        "  for j in range(no_of_countries): \n",
        "    curr_country = country_list[j] \n",
        "    #print(i, j)\n",
        "    if train['CurrentEmployerType'].values[i] != \"NaN\" and train['CurrentEmployerType'].values[i] == curr_country: #replacing satisfactions with avg specific to country\n",
        "      for x in avg_satis_list:\n",
        "        if x[0]==train['CurrentEmployerType'].values[i]:\n",
        "          value=float(x[1])\n",
        "      train.loc[train['CurrentEmployerType'] == curr_country, \"CurrentEmployerType\"]=value\n",
        "\n",
        "\n",
        "\n",
        "train.loc[train['CurrentEmployerType']< 4.5, \"CurrentEmployerType\"] = 0\n",
        "train.loc[(train['CurrentEmployerType'] >= 4.5) & (train['CurrentEmployerType']< 5), \"CurrentEmployerType\"] = 1\n",
        "train.loc[(train['CurrentEmployerType'] >= 5) & (train['CurrentEmployerType']< 5.5), \"CurrentEmployerType\"] = 2\n",
        "train.loc[(train['CurrentEmployerType'] >= 5.5) & (train['CurrentEmployerType']< 6), \"CurrentEmployerType\"] = 3\n",
        "train.loc[(train['CurrentEmployerType'] >= 6) & (train['CurrentEmployerType']< 6.5), \"CurrentEmployerType\"] = 4\n",
        "train.loc[(train['CurrentEmployerType'] >= 6.5) & (train['CurrentEmployerType']< 7), \"CurrentEmployerType\"] = 5\n",
        "train.loc[(train['CurrentEmployerType'] >= 7) & (train['CurrentEmployerType']< 7.5), \"CurrentEmployerType\"] = 6\n",
        "train.loc[train[\"CurrentEmployerType\"] >= 7.5, \"CurrentEmployerType\"] = 7\n",
        "\n",
        "\n",
        "country_list = test[\"CurrentEmployerType\"].unique()\n",
        "no_of_countries = len(country_list)\n",
        "\n",
        "arr = []\n",
        "for i in range(no_of_countries):\n",
        "    row = []\n",
        "    name = test_df[\"CurrentEmployerType\"].unique()[i]\n",
        "    row.append(name)\n",
        "    row.append(0)\n",
        "    row.append(0)\n",
        "    arr.append(row)\n",
        "\n",
        "\n",
        "index = test.index\n",
        "number_of_rows = len(index)\n",
        "\n",
        "#changing jobsatisfaction values\n",
        "for i in range (number_of_rows):\n",
        "  for j in range(no_of_countries): \n",
        "    curr_country = country_list[j] \n",
        "    #print(i, j)\n",
        "    if test['CurrentEmployerType'].values[i] != \"NaN\" and test['CurrentEmployerType'].values[i] == curr_country: #replacing satisfactions with avg specific to country\n",
        "      for x in avg_satis_list:\n",
        "        if x[0]==test['CurrentEmployerType'].values[i]:\n",
        "          value=float(x[1])\n",
        "      test.loc[test['CurrentEmployerType'] == curr_country, \"CurrentEmployerType\"]=value\n",
        "\n",
        "\n",
        "test.loc[test['CurrentEmployerType']< 4.5, \"CurrentEmployerType\"] = 0\n",
        "test.loc[(test['CurrentEmployerType'] >= 4.5) & (test['CurrentEmployerType']< 5), \"CurrentEmployerType\"] = 1\n",
        "test.loc[(test['CurrentEmployerType'] >= 5) & (test['CurrentEmployerType']< 5.5), \"CurrentEmployerType\"] = 2\n",
        "test.loc[(test['CurrentEmployerType'] >= 5.5) & (test['CurrentEmployerType']< 6), \"CurrentEmployerType\"] = 3\n",
        "test.loc[(test['CurrentEmployerType'] >= 6) & (test['CurrentEmployerType']< 6.5), \"CurrentEmployerType\"] = 4\n",
        "test.loc[(test['CurrentEmployerType'] >= 6.5) & (test['CurrentEmployerType']< 7), \"CurrentEmployerType\"] = 5\n",
        "test.loc[(test['CurrentEmployerType'] >= 7) & (test['CurrentEmployerType']< 7.5), \"CurrentEmployerType\"] = 6\n",
        "test.loc[test[\"CurrentEmployerType\"] >= 7.5, \"CurrentEmployerType\"] = 7"
      ],
      "execution_count": null,
      "outputs": []
    },
    {
      "cell_type": "code",
      "metadata": {
        "id": "MKm5M_Yv8Bbi"
      },
      "source": [
        "country_list = train[\"EmployerSize\"].unique()\n",
        "no_of_countries = len(country_list)\n",
        "\n",
        "arr = []\n",
        "for i in range(no_of_countries):\n",
        "    row = []\n",
        "    name = train[\"EmployerSize\"].unique()[i]\n",
        "    row.append(name)\n",
        "    row.append(0)\n",
        "    row.append(0)\n",
        "    arr.append(row)\n",
        "\n",
        "index = train.index\n",
        "number_of_rows = len(index)\n",
        "for i in range(no_of_countries):\n",
        "  curr_country = country_list[i]\n",
        "  for j in range (number_of_rows):\n",
        "    if train['EmployerSize'].values[j] != \"NaN\" and train['EmployerSize'].values[j] == curr_country:\n",
        "      arr[i][1] += train_label.values[j]\n",
        "      arr[i][2] += 1\n",
        "\n",
        "avg_satis_list = []\n",
        "for i in range(no_of_countries):\n",
        "    row = []\n",
        "    name = train[\"EmployerSize\"].unique()[i]\n",
        "    row.append(name)\n",
        "    if arr[i][2] != 0:\n",
        "      avg_jobsatis = arr[i][1] / arr[i][2]\n",
        "      row.append(avg_jobsatis)\n",
        "      avg_satis_list.append(row)\n",
        "\n",
        "\n",
        "\n",
        "for i in range (number_of_rows):\n",
        "  for j in range(no_of_countries): \n",
        "    curr_country = country_list[j] \n",
        "    #print(i, j)\n",
        "    if train['EmployerSize'].values[i] != \"NaN\" and train['EmployerSize'].values[i] == curr_country: #replacing satisfactions with avg specific to country\n",
        "      for x in avg_satis_list:\n",
        "        if x[0]==train['EmployerSize'].values[i]:\n",
        "          value=float(x[1])\n",
        "      train.loc[train['EmployerSize'] == curr_country, \"EmployerSize\"]=value\n",
        "\n",
        "\n",
        "\n",
        "train.loc[train['EmployerSize']< 6.71, \"EmployerSize\"] = 0\n",
        "train.loc[(train['EmployerSize'] >= 6.71) & (train['EmployerSize']< 6.82),\"EmployerSize\"] = 1\n",
        "train.loc[train['EmployerSize']>6.82,\"EmployerSize\"] = 2 \n",
        "\n",
        "\n",
        "country_list = test[\"EmployerSize\"].unique()\n",
        "no_of_countries = len(country_list)\n",
        "\n",
        "arr = []\n",
        "for i in range(no_of_countries):\n",
        "    row = []\n",
        "    name = test_df[\"EmployerSize\"].unique()[i]\n",
        "    row.append(name)\n",
        "    row.append(0)\n",
        "    row.append(0)\n",
        "    arr.append(row)\n",
        "\n",
        "\n",
        "index = test.index\n",
        "number_of_rows = len(index)\n",
        "\n",
        "#changing jobsatisfaction values\n",
        "for i in range (number_of_rows):\n",
        "  for j in range(no_of_countries): \n",
        "    curr_country = country_list[j] \n",
        "    #print(i, j)\n",
        "    if test['EmployerSize'].values[i] != \"NaN\" and test['EmployerSize'].values[i] == curr_country: #replacing satisfactions with avg specific to country\n",
        "      for x in avg_satis_list:\n",
        "        if x[0]==test['EmployerSize'].values[i]:\n",
        "          value=float(x[1])\n",
        "      test.loc[test['EmployerSize'] == curr_country, \"EmployerSize\"]=value\n",
        "\n",
        "\n",
        "test.loc[test['EmployerSize']< 6.71, \"EmployerSize\"] = 0\n",
        "test.loc[(test['EmployerSize'] >= 6.71) & (test['EmployerSize']< 6.82),\"EmployerSize\"] = 1\n",
        "test.loc[test['EmployerSize']>6.82,\"EmployerSize\"] = 2                                                    \n"
      ],
      "execution_count": null,
      "outputs": []
    },
    {
      "cell_type": "code",
      "metadata": {
        "colab": {
          "base_uri": "https://localhost:8080/"
        },
        "id": "IKxc62FaFHZL",
        "outputId": "24c51d9b-7df1-452e-f387-79f20e780fe9"
      },
      "source": [
        "avg_satis_list"
      ],
      "execution_count": null,
      "outputs": [
        {
          "output_type": "execute_result",
          "data": {
            "text/plain": [
              "[['10,000 or more employees', 6.775851763299462],\n",
              " ['1,000 to 4,999 employees', 6.751358695652174],\n",
              " ['5,000 to 9,999 employees', 6.726962457337884],\n",
              " ['Fewer than 10 employees', 6.890034364261169],\n",
              " ['10 to 19 employees', 6.640127388535032],\n",
              " ['500 to 999 employees', 6.768472906403941],\n",
              " [\"I don't know\", 6.992857142857143],\n",
              " ['20 to 99 employees', 6.819548872180451],\n",
              " ['100 to 499 employees', 6.696789536266349],\n",
              " ['I prefer not to answer', 6.702702702702703]]"
            ]
          },
          "metadata": {
            "tags": []
          },
          "execution_count": 929
        }
      ]
    },
    {
      "cell_type": "code",
      "metadata": {
        "id": "RCDiD86j_3b2"
      },
      "source": [
        "country_list = train['WorkMLTeamSeatSelect'].unique()\n",
        "no_of_countries = len(country_list)\n",
        "\n",
        "arr = []\n",
        "for i in range(no_of_countries):\n",
        "    row = []\n",
        "    name = train[\"WorkMLTeamSeatSelect\"].unique()[i]\n",
        "    row.append(name)\n",
        "    row.append(0)\n",
        "    row.append(0)\n",
        "    arr.append(row)\n",
        "\n",
        "index = train.index\n",
        "number_of_rows = len(index)\n",
        "for i in range(no_of_countries):\n",
        "  curr_country = country_list[i]\n",
        "  for j in range (number_of_rows):\n",
        "    if train['WorkMLTeamSeatSelect'].values[j] != \"NaN\" and train['WorkMLTeamSeatSelect'].values[j] == curr_country:\n",
        "      arr[i][1] += train_label.values[j]\n",
        "      arr[i][2] += 1\n",
        "\n",
        "avg_satis_list = []\n",
        "for i in range(no_of_countries):\n",
        "    row = []\n",
        "    name = train[\"WorkMLTeamSeatSelect\"].unique()[i]\n",
        "    row.append(name)\n",
        "    if arr[i][2] != 0:\n",
        "      avg_jobsatis = arr[i][1] / arr[i][2]\n",
        "      row.append(avg_jobsatis)\n",
        "      avg_satis_list.append(row)\n",
        "\n",
        "\n",
        "\n",
        "for i in range (number_of_rows):\n",
        "  for j in range(no_of_countries): \n",
        "    curr_country = country_list[j] \n",
        "    #print(i, j)\n",
        "    if train['WorkMLTeamSeatSelect'].values[i] != \"NaN\" and train['WorkMLTeamSeatSelect'].values[i] == curr_country: #replacing satisfactions with avg specific to country\n",
        "      for x in avg_satis_list:\n",
        "        if x[0]==train['WorkMLTeamSeatSelect'].values[i]:\n",
        "          value=float(x[1])\n",
        "      train.loc[train['WorkMLTeamSeatSelect'] == curr_country, \"WorkMLTeamSeatSelect\"]=value\n",
        "\n",
        "\n",
        "\n",
        "train.loc[train['WorkMLTeamSeatSelect']< 6.7, \"WorkMLTeamSeatSelect\"] = 1\n",
        "train.loc[train['WorkMLTeamSeatSelect'] >= 6.7, \"WorkMLTeamSeatSelect\"] = 2\n",
        "\n",
        "\n",
        "\n",
        "\n",
        "country_list = test[\"WorkMLTeamSeatSelect\"].unique()\n",
        "no_of_countries = len(country_list)\n",
        "\n",
        "\n",
        "index = test.index\n",
        "number_of_rows = len(index)\n",
        "\n",
        "#changing jobsatisfaction values\n",
        "for i in range (number_of_rows):\n",
        "  for j in range(no_of_countries): \n",
        "    curr_country = country_list[j] \n",
        "    #print(i, j)\n",
        "    if test['WorkMLTeamSeatSelect'].values[i] != \"NaN\" and test['WorkMLTeamSeatSelect'].values[i] == curr_country: #replacing satisfactions with avg specific to country\n",
        "      for x in avg_satis_list:\n",
        "        if x[0]==test['WorkMLTeamSeatSelect'].values[i]:\n",
        "          value=float(x[1])\n",
        "      test.loc[test['WorkMLTeamSeatSelect'] == curr_country, \"WorkMLTeamSeatSelect\"]=value\n",
        "\n",
        "\n",
        "test.loc[test['WorkMLTeamSeatSelect']< 6.7, \"WorkMLTeamSeatSelect\"] = 1\n",
        "test.loc[test['WorkMLTeamSeatSelect'] >= 6.7, \"WorkMLTeamSeatSelect\"] = 2\n",
        "\n"
      ],
      "execution_count": null,
      "outputs": []
    },
    {
      "cell_type": "code",
      "metadata": {
        "id": "6H4Pf4IGCLMQ"
      },
      "source": [
        "country_list = train['WorkDataVisualizations'].unique()\n",
        "no_of_countries = len(country_list)\n",
        "\n",
        "arr = []\n",
        "for i in range(no_of_countries):\n",
        "    row = []\n",
        "    name = train[\"WorkDataVisualizations\"].unique()[i]\n",
        "    row.append(name)\n",
        "    row.append(0)\n",
        "    row.append(0)\n",
        "    arr.append(row)\n",
        "\n",
        "index = train.index\n",
        "number_of_rows = len(index)\n",
        "for i in range(no_of_countries):\n",
        "  curr_country = country_list[i]\n",
        "  for j in range (number_of_rows):\n",
        "    if train['WorkDataVisualizations'].values[j] != \"NaN\" and train['WorkDataVisualizations'].values[j] == curr_country:\n",
        "      arr[i][1] += train_label.values[j]\n",
        "      arr[i][2] += 1\n",
        "\n",
        "avg_satis_list = []\n",
        "for i in range(no_of_countries):\n",
        "    row = []\n",
        "    name = train[\"WorkDataVisualizations\"].unique()[i]\n",
        "    row.append(name)\n",
        "    if arr[i][2] != 0:\n",
        "      avg_jobsatis = arr[i][1] / arr[i][2]\n",
        "      row.append(avg_jobsatis)\n",
        "      avg_satis_list.append(row)\n",
        "\n",
        "\n",
        "\n",
        "for i in range (number_of_rows):\n",
        "  for j in range(no_of_countries): \n",
        "    curr_country = country_list[j] \n",
        "    #print(i, j)\n",
        "    if train['WorkDataVisualizations'].values[i] != \"NaN\" and train['WorkDataVisualizations'].values[i] == curr_country: #replacing satisfactions with avg specific to country\n",
        "      for x in avg_satis_list:\n",
        "        if x[0]==train['WorkDataVisualizations'].values[i]:\n",
        "          value=float(x[1])\n",
        "      train.loc[train['WorkDataVisualizations'] == curr_country, \"WorkDataVisualizations\"]=value\n",
        "\n",
        "\n",
        "train.loc[train['WorkDataVisualizations']< 6.5, \"WorkDataVisualizations\"] = 0\n",
        "train.loc[(train['WorkDataVisualizations'] >= 6.5) & (train['WorkDataVisualizations']< 6.75), \"WorkDataVisualizations\"] = 1\n",
        "train.loc[train['WorkDataVisualizations'] >= 6.75, \"WorkDataVisualizations\"] = 2\n",
        "\n",
        "\n",
        "\n",
        "\n",
        "country_list = test[\"WorkDataVisualizations\"].unique()\n",
        "no_of_countries = len(country_list)\n",
        "\n",
        "\n",
        "\n",
        "index = test.index\n",
        "number_of_rows = len(index)\n",
        "\n",
        "#changing jobsatisfaction values\n",
        "for i in range (number_of_rows):\n",
        "  for j in range(no_of_countries): \n",
        "    curr_country = country_list[j] \n",
        "    #print(i, j)\n",
        "    if test['WorkDataVisualizations'].values[i] != \"NaN\" and test['WorkDataVisualizations'].values[i] == curr_country: #replacing satisfactions with avg specific to country\n",
        "      for x in avg_satis_list:\n",
        "        if x[0]==test['WorkDataVisualizations'].values[i]:\n",
        "          value=float(x[1])\n",
        "      test.loc[test['WorkDataVisualizations'] == curr_country, \"WorkDataVisualizations\"]=value\n",
        "\n",
        "\n",
        "\n",
        "test.loc[test['WorkDataVisualizations']< 6.5, \"WorkDataVisualizations\"] = 1\n",
        "test.loc[(test['WorkDataVisualizations'] >= 6.5) & (test['WorkDataVisualizations']< 6.75), \"WorkDataVisualizations\"] = 2\n",
        "test.loc[test['WorkDataVisualizations'] >= 6.75, \"WorkDataVisualizations\"] = 3\n"
      ],
      "execution_count": null,
      "outputs": []
    },
    {
      "cell_type": "code",
      "metadata": {
        "id": "y_gEPzLVgkJ5"
      },
      "source": [
        "country_list = train['WorkChallengeFrequencyDataAccess'].unique()\n",
        "no_of_countries = len(country_list)\n",
        "\n",
        "arr = []\n",
        "for i in range(no_of_countries):\n",
        "    row = []\n",
        "    name = train[\"WorkChallengeFrequencyDataAccess\"].unique()[i]\n",
        "    row.append(name)\n",
        "    row.append(0)\n",
        "    row.append(0)\n",
        "    arr.append(row)\n",
        "\n",
        "index = train.index\n",
        "number_of_rows = len(index)\n",
        "for i in range(no_of_countries):\n",
        "  curr_country = country_list[i]\n",
        "  for j in range (number_of_rows):\n",
        "    if train['WorkChallengeFrequencyDataAccess'].values[j] != \"NaN\" and train['WorkChallengeFrequencyDataAccess'].values[j] == curr_country:\n",
        "      arr[i][1] += train_label.values[j]\n",
        "      arr[i][2] += 1\n",
        "\n",
        "avg_satis_list = []\n",
        "for i in range(no_of_countries):\n",
        "    row = []\n",
        "    name = train[\"WorkChallengeFrequencyDataAccess\"].unique()[i]\n",
        "    row.append(name)\n",
        "    if arr[i][2] != 0:\n",
        "      avg_jobsatis = arr[i][1] / arr[i][2]\n",
        "      row.append(avg_jobsatis)\n",
        "      avg_satis_list.append(row)"
      ],
      "execution_count": null,
      "outputs": []
    },
    {
      "cell_type": "code",
      "metadata": {
        "colab": {
          "base_uri": "https://localhost:8080/"
        },
        "id": "t4-I7ST_gtyK",
        "outputId": "006f9e90-def8-4ce8-ee0d-df15c6475e83"
      },
      "source": [
        "avg_satis_list"
      ],
      "execution_count": null,
      "outputs": [
        {
          "output_type": "execute_result",
          "data": {
            "text/plain": [
              "[['Often', 6.742661664091812],\n",
              " ['Most of the time', 6.627615062761507],\n",
              " ['Rarely', 7.340425531914893],\n",
              " ['Sometimes', 7.084566596194503]]"
            ]
          },
          "metadata": {
            "tags": []
          },
          "execution_count": 933
        }
      ]
    },
    {
      "cell_type": "code",
      "metadata": {
        "id": "3QLuEhEn9hlU"
      },
      "source": [
        "train=train.drop(columns='CodeWriter')\n",
        "test=test.drop(columns='CodeWriter')"
      ],
      "execution_count": null,
      "outputs": []
    },
    {
      "cell_type": "code",
      "metadata": {
        "id": "NaV5XomsCybx"
      },
      "source": [
        "train=train.drop(columns='MLToolNextYearSelect')\n",
        "test=test.drop(columns='MLToolNextYearSelect')"
      ],
      "execution_count": null,
      "outputs": []
    },
    {
      "cell_type": "code",
      "metadata": {
        "id": "Go9RoB7i0csI"
      },
      "source": [
        "\n",
        "#tfit = {'Poorly':0,'Fine':1,'Perfectly':2}\n",
        "#train['TitleFit'] = train['TitleFit'].replace(tfit)\n",
        "#test['TitleFit'] = test['TitleFit'].replace(tfit)\n",
        "\n",
        "#idfit = {'No':0,'Sort of (Explain more)':1,'Yes':2}\n",
        "#train['DataScienceIdentitySelect'] = train['DataScienceIdentitySelect'].replace(idfit)\n",
        "#test['DataScienceIdentitySelect'] = test['DataScienceIdentitySelect'].replace(idfit)\n",
        "\n",
        "tefit = {'I don\\'t write code to analyze data':7,'Less than a year':8,'1 to 2 years':9,'3 to 5 years':9,'6 to 10 years':9,'More than 10 years':10}\n",
        "train['Tenure'] = train['Tenure'].replace(tefit)\n",
        "test['Tenure'] = test['Tenure'].replace(tefit)\n",
        "\n",
        "rfit = {'Don\\'t know':1,'Never':0,'Rarely':1,'Sometimes':1,'Most of the time':3,'Always':4}\n",
        "train['RemoteWork'] = train['RemoteWork'].replace(rfit)\n",
        "test['RemoteWork'] = test['RemoteWork'].replace(rfit)\n",
        "\n",
        "pfit = {'Rarely':0,'Sometimes':1,'Often':2,'Most of the time':2}\n",
        "train['WorkToolsFrequencyPython'] = train['WorkToolsFrequencyPython'].replace(pfit)\n",
        "test['WorkToolsFrequencyPython'] = test['WorkToolsFrequencyPython'].replace(pfit)\n",
        "\n",
        "dfit = {'Rarely':1,'Sometimes':0,'Often':0,'Most of the time':0}\n",
        "train['WorkMethodsFrequencyDataVisualization'] = train['WorkMethodsFrequencyDataVisualization'].replace(dfit)\n",
        "test['WorkMethodsFrequencyDataVisualization'] = test['WorkMethodsFrequencyDataVisualization'].replace(dfit)\n",
        "\n",
        "dfit = {'Rarely':2,'Sometimes':1,'Often':1,'Most of the time':0}\n",
        "train['WorkChallengeFrequencyTalent'] = train['WorkChallengeFrequencyTalent'].replace(dfit)\n",
        "test['WorkChallengeFrequencyTalent'] = test['WorkChallengeFrequencyTalent'].replace(dfit)\n",
        "\n",
        "dfit = {'Rarely':42,'Sometimes':41,'Often':40,'Most of the time':40}\n",
        "train['WorkChallengeFrequencyDataAccess'] = train['WorkChallengeFrequencyDataAccess'].replace(dfit)\n",
        "test['WorkChallengeFrequencyDataAccess'] = test['WorkChallengeFrequencyDataAccess'].replace(dfit)\n",
        "\n",
        "wofit = {'Don\\'t know':2,'Never':0,'Rarely':1,'Sometimes':2,'Most of the time':3,'Always':3}\n",
        "train['WorkProductionFrequency'] = train['WorkProductionFrequency'].replace(wofit)\n",
        "test['WorkProductionFrequency'] = test['WorkProductionFrequency'].replace(wofit)\n"
      ],
      "execution_count": null,
      "outputs": []
    },
    {
      "cell_type": "code",
      "metadata": {
        "id": "OnYwf_dbzAKD"
      },
      "source": [
        "mean=np.mean(train_df['Age'])\n",
        "\n",
        "train.loc[train['Age'] <= 10, 'Age' ] = mean\n",
        "train.loc[train['Age'] >= 80, 'Age' ] = mean\n",
        " \n",
        "test.loc[test['Age'] <= 10, 'Age' ] = mean\n",
        "test.loc[test['Age'] >= 80, 'Age' ] = mean\n",
        "\n",
        "\n",
        "train.loc[(train['Age'] > 10) & (train['Age'] <= 20), 'Age' ] = 32\n",
        "train.loc[(train['Age'] > 20) & (train['Age'] <= 50), 'Age' ] = 31\n",
        "train.loc[(train['Age'] > 50) & (train['Age'] <= 60), 'Age' ] = 32\n",
        "train.loc[(train['Age'] > 60) & (train['Age'] <= 80), 'Age' ] = 33\n",
        "\n",
        "\n",
        "test.loc[(test['Age'] > 10) & (test['Age'] <= 20), 'Age' ] = 32\n",
        "test.loc[(test['Age'] > 20) & (test['Age'] <= 50), 'Age' ] = 31\n",
        "test.loc[(test['Age'] > 50) & (test['Age'] <= 60), 'Age' ] = 32\n",
        "test.loc[(test['Age'] > 60) & (test['Age'] <= 80), 'Age' ] = 33\n"
      ],
      "execution_count": null,
      "outputs": []
    },
    {
      "cell_type": "code",
      "metadata": {
        "id": "zLwYnv_1niQr"
      },
      "source": [
        "from sklearn.preprocessing import OrdinalEncoder\n",
        "\n",
        "en = OrdinalEncoder()\n",
        "train[[\"LanguageRecommendationSelect\"]] = en.fit_transform(train[[\"LanguageRecommendationSelect\"]])\n",
        "test[[\"LanguageRecommendationSelect\"]] = en.transform(test[[\"LanguageRecommendationSelect\"]])"
      ],
      "execution_count": null,
      "outputs": []
    },
    {
      "cell_type": "code",
      "metadata": {
        "colab": {
          "base_uri": "https://localhost:8080/"
        },
        "id": "e3mzP2KS50UH",
        "outputId": "9dbd721a-e21f-4788-98c9-2aa10a0b7a5c"
      },
      "source": [
        "print(train.shape,test.shape)"
      ],
      "execution_count": null,
      "outputs": [
        {
          "output_type": "stream",
          "text": [
            "(5529, 26) (1000, 26)\n"
          ],
          "name": "stdout"
        }
      ]
    },
    {
      "cell_type": "code",
      "metadata": {
        "colab": {
          "base_uri": "https://localhost:8080/"
        },
        "id": "RZZxPSII8J1b",
        "outputId": "ba4df31b-4f0b-4d71-d9b7-e14acb28f96c"
      },
      "source": [
        "train.info()"
      ],
      "execution_count": null,
      "outputs": [
        {
          "output_type": "stream",
          "text": [
            "<class 'pandas.core.frame.DataFrame'>\n",
            "RangeIndex: 5529 entries, 0 to 5528\n",
            "Data columns (total 26 columns):\n",
            " #   Column                                 Non-Null Count  Dtype  \n",
            "---  ------                                 --------------  -----  \n",
            " 0   GenderSelect                           5529 non-null   object \n",
            " 1   Country                                5529 non-null   object \n",
            " 2   Age                                    5529 non-null   float64\n",
            " 3   EmploymentStatus                       5529 non-null   object \n",
            " 4   CurrentJobTitleSelect                  5529 non-null   object \n",
            " 5   TitleFit                               5529 non-null   object \n",
            " 6   CurrentEmployerType                    5529 non-null   object \n",
            " 7   LanguageRecommendationSelect           5529 non-null   float64\n",
            " 8   DataScienceIdentitySelect              5529 non-null   object \n",
            " 9   FormalEducation                        5529 non-null   object \n",
            " 10  MajorSelect                            5529 non-null   object \n",
            " 11  Tenure                                 5529 non-null   int64  \n",
            " 12  EmployerIndustry                       5529 non-null   object \n",
            " 13  EmployerSize                           5529 non-null   object \n",
            " 14  WorkProductionFrequency                5529 non-null   int64  \n",
            " 15  WorkToolsFrequencyPython               5529 non-null   int64  \n",
            " 16  WorkMethodsFrequencyDataVisualization  5529 non-null   int64  \n",
            " 17  WorkChallengeFrequencyPolitics         5529 non-null   object \n",
            " 18  WorkChallengeFrequencyDirtyData        5529 non-null   object \n",
            " 19  WorkChallengeFrequencyTalent           5529 non-null   int64  \n",
            " 20  WorkChallengeFrequencyDataAccess       5529 non-null   int64  \n",
            " 21  CompensationScore                      5529 non-null   float64\n",
            " 22  WorkDataVisualizations                 5529 non-null   object \n",
            " 23  WorkInternalVsExternalTools            5529 non-null   object \n",
            " 24  WorkMLTeamSeatSelect                   5529 non-null   object \n",
            " 25  RemoteWork                             5529 non-null   int64  \n",
            "dtypes: float64(3), int64(7), object(16)\n",
            "memory usage: 1.1+ MB\n"
          ],
          "name": "stdout"
        }
      ]
    },
    {
      "cell_type": "code",
      "metadata": {
        "id": "3XfUZvsX9XHP"
      },
      "source": [
        "te=train\n",
        "tr=test"
      ],
      "execution_count": null,
      "outputs": []
    },
    {
      "cell_type": "code",
      "metadata": {
        "id": "Pg1K4JEm99GD"
      },
      "source": [
        "from sklearn.preprocessing import OneHotEncoder\n",
        "from sklearn.compose import ColumnTransformer\n",
        "enc = OneHotEncoder(handle_unknown='ignore')\n",
        "\n",
        "columnT= ColumnTransformer([('encoder',OneHotEncoder(),['WorkChallengeFrequencyDataAccess','WorkProductionFrequency','Age','RemoteWork','EmploymentStatus','CurrentJobTitleSelect',\"GenderSelect\",'Country',\"WorkInternalVsExternalTools\",\"CurrentEmployerType\",\"EmployerSize\",\"DataScienceIdentitySelect\",\"WorkToolsFrequencyPython\",\"TitleFit\",\"RemoteWork\",\"WorkChallengeFrequencyPolitics\",\"WorkChallengeFrequencyDirtyData\"])],remainder='passthrough')\n",
        "\n",
        "train = pd.DataFrame(columnT.fit_transform(train))\n",
        "test = pd.DataFrame(columnT.transform(test))"
      ],
      "execution_count": null,
      "outputs": []
    },
    {
      "cell_type": "code",
      "metadata": {
        "colab": {
          "base_uri": "https://localhost:8080/"
        },
        "id": "O800xjBc6Llf",
        "outputId": "9454f695-4b1a-45f1-b7b2-4d96c5b3a6f5"
      },
      "source": [
        "print(train.shape,test.shape)"
      ],
      "execution_count": null,
      "outputs": [
        {
          "output_type": "stream",
          "text": [
            "(5529, 90) (1000, 90)\n"
          ],
          "name": "stdout"
        }
      ]
    },
    {
      "cell_type": "code",
      "metadata": {
        "id": "9LoADtNpPHkt"
      },
      "source": [
        "train=train.astype('float64')\n",
        "test=test.astype('float64')"
      ],
      "execution_count": null,
      "outputs": []
    },
    {
      "cell_type": "code",
      "metadata": {
        "colab": {
          "base_uri": "https://localhost:8080/",
          "height": 1000
        },
        "id": "wy-DwEW-4Ly2",
        "outputId": "6f19b143-b28b-4d90-d889-0474d526bd4c"
      },
      "source": [
        "#linear\n",
        "total=0\n",
        "\n",
        "#from sklearn.model_selection import cross_val_score\n",
        "#scores = cross_val_score(krr, train, train_label, scoring='neg_mean_squared_error', cv=5)\n",
        "#print(np.sqrt(np.abs(np.mean(scores))))\n",
        "\n",
        "xplt=np.arange(20) \n",
        "\n",
        "x_train, x_test, y_train, y_test = train_test_split(train,train_label,test_size=0.2)\n",
        "\n",
        "model = LinearRegression().fit(x_train, y_train)\n",
        "r_sq = model.score(x_train, y_train)\n",
        "y_pred = model.intercept_ + np.sum(model.coef_ * x_test, axis=1)\n",
        "total+=mean_squared_error(y_pred, y_test,squared=False)\n",
        "\n",
        "\n",
        "print(mean_squared_error(y_pred, y_test,squared=False))\n",
        "print('coefficient of determination:', r_sq)\n",
        "print('intercept:', model.intercept_)\n",
        "print('slope:', model.coef_)\n",
        "plt.figure(figsize=(24,12))\n",
        "plt.plot(xplt[:20], y_pred[:20], color=\"red\")\n",
        "plt.scatter(xplt[:20], y_test[:20])"
      ],
      "execution_count": null,
      "outputs": [
        {
          "output_type": "stream",
          "text": [
            "1.8942900639836975\n",
            "coefficient of determination: 0.19387383399901847\n",
            "intercept: -1644158342588.645\n",
            "slope: [ 1.45144603e+09  1.45144603e+09  1.45144603e+09  9.31272858e+12\n",
            "  9.31272858e+12  9.31272858e+12  9.31272858e+12 -1.08914924e+12\n",
            " -1.08914924e+12 -1.08914924e+12 -9.55512764e+10  1.28747495e+12\n",
            "  2.70676493e+11 -3.95946140e+11 -1.28026539e+12 -1.28026539e+12\n",
            " -1.28026539e+12 -7.75644388e+11 -7.75644388e+11 -7.75644388e+11\n",
            " -7.75644388e+11 -7.75644388e+11 -7.75644388e+11 -7.75644388e+11\n",
            " -7.75644388e+11 -7.75644388e+11 -7.75644388e+11 -7.75644388e+11\n",
            " -7.75644388e+11 -7.75644388e+11 -7.75644388e+11 -7.75644388e+11\n",
            " -7.75644388e+11  3.72588617e+10  3.72588617e+10  3.72588617e+10\n",
            "  3.72588617e+10 -1.45096892e+12 -1.45096892e+12 -1.45096892e+12\n",
            " -1.45096892e+12 -1.45096892e+12  8.39667160e+11  8.39667160e+11\n",
            "  8.39667160e+11  8.39667160e+11  8.39667160e+11  8.39667160e+11\n",
            " -4.06099302e+11 -4.06099302e+11 -4.06099302e+11 -4.06099302e+11\n",
            " -4.06099302e+11 -4.06099302e+11 -4.06099302e+11 -4.06099302e+11\n",
            "  2.87896240e+12  2.87896240e+12  2.87896240e+12 -3.01352178e+12\n",
            " -3.01352178e+12 -3.01352178e+12 -6.98604191e+10 -6.98604191e+10\n",
            " -6.98604191e+10 -2.09686244e+12 -2.09686244e+12 -2.09686244e+12\n",
            "  3.56375414e+10 -1.34738869e+12 -3.30590229e+11  3.36032405e+11\n",
            " -1.16934261e+11 -1.16934261e+11 -1.16934261e+11 -1.16934261e+11\n",
            " -1.06669023e+12 -1.06669023e+12 -1.06669023e+12 -1.06669023e+12\n",
            "  3.32031250e-02  1.25244141e-01  2.20527649e-01  2.44140625e-03\n",
            "  1.59851074e-01  8.19091797e-01  3.75000000e-01  3.51562500e-02\n",
            "  1.55273438e-01  8.64257812e-02]\n"
          ],
          "name": "stdout"
        },
        {
          "output_type": "execute_result",
          "data": {
            "text/plain": [
              "<matplotlib.collections.PathCollection at 0x7f25f52ee518>"
            ]
          },
          "metadata": {
            "tags": []
          },
          "execution_count": 960
        },
        {
          "output_type": "display_data",
          "data": {
            "image/png": "[encoded data removed]",
            "text/plain": [
              "<Figure size 1728x864 with 1 Axes>"
            ]
          },
          "metadata": {
            "tags": [],
            "needs_background": "light"
          }
        }
      ]
    },
    {
      "cell_type": "code",
      "metadata": {
        "id": "3fO3m-umL9t3"
      },
      "source": [
        "result=model.predict(test)\n",
        "DF = pd.DataFrame(result) \n",
        "  \n",
        "# save the dataframe as a csv file \n",
        "DF.to_csv(\"res3.csv\")"
      ],
      "execution_count": null,
      "outputs": []
    },
    {
      "cell_type": "code",
      "metadata": {
        "colab": {
          "base_uri": "https://localhost:8080/"
        },
        "id": "C-90Ih9lBmnn",
        "outputId": "cc08eff8-4c6d-49e5-8729-38b210180b55"
      },
      "source": [
        "from sklearn.kernel_ridge import KernelRidge\n",
        "import math\n",
        "\n",
        "#x_train, x_test, y_train, y_test = train_test_split(train,train_label,test_size=0.25)\n",
        "\n",
        "# For each of the tested polynomial degree values\n",
        "\n",
        "krr = KernelRidge(alpha=1.0,kernel='linear',degree=2)\n",
        "\n",
        "scores = cross_val_score(krr, train, train_label, scoring='neg_mean_squared_error', cv=5)\n",
        "print(np.sqrt(np.abs(np.mean(scores))))\n",
        "\n",
        "#krr.fit(x_train,y_train)\n",
        "#new_y = krr.predict(x_test)\n",
        "#rmse = math.sqrt(mean_squared_error(new_y, y_test))\n",
        "\n",
        "#print(rmse)\n",
        "\n"
      ],
      "execution_count": null,
      "outputs": [
        {
          "output_type": "stream",
          "text": [
            "1.9516843454653272\n"
          ],
          "name": "stdout"
        }
      ]
    }
  ]
}